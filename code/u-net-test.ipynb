{
 "cells": [
  {
   "cell_type": "code",
   "execution_count": null,
   "metadata": {
    "_cell_guid": "b1076dfc-b9ad-4769-8c92-a6c4dae69d19",
    "_uuid": "8f2839f25d086af736a60e9eeb907d3b93b6e0e5",
    "execution": {
     "iopub.execute_input": "2021-02-23T12:18:04.390119Z",
     "iopub.status.busy": "2021-02-23T12:18:04.389336Z",
     "iopub.status.idle": "2021-02-23T12:18:04.535759Z",
     "shell.execute_reply": "2021-02-23T12:18:04.534728Z"
    },
    "papermill": {
     "duration": 0.17355,
     "end_time": "2021-02-23T12:18:04.536016",
     "exception": false,
     "start_time": "2021-02-23T12:18:04.362466",
     "status": "completed"
    },
    "tags": []
   },
   "outputs": [],
   "source": [
    "# This Python 3 environment comes with many helpful analytics libraries installed\n",
    "# It is defined by the kaggle/python Docker image: https://github.com/kaggle/docker-python\n",
    "# For example, here's several helpful packages to load\n",
    "\n",
    "import numpy as np # linear algebra\n",
    "import pandas as pd # data processing, CSV file I/O (e.g. pd.read_csv)\n",
    "\n",
    "# Input data files are available in the read-only \"../input/\" directoryµ\n",
    "# For example, running this (by clicking run or pressing Shift+Enter) will list all files under the input directory\n",
    "\n",
    "import os\n",
    "for dirname, _, filenames in os.walk('/kaggle/input'):\n",
    "    for filename in filenames:\n",
    "        print(os.path.join(dirname, filename))\n",
    "\n",
    "# You can write up to 20GB to the current directory (/kaggle/working/) that gets preserved as output when you create a version using \"Save & Run All\" \n",
    "# You can also write temporary files to /kaggle/temp/, but they won't be saved outside of the current session"
   ]
  },
  {
   "cell_type": "code",
   "execution_count": 1,
   "metadata": {
    "execution": {
     "iopub.execute_input": "2021-02-23T12:18:04.584023Z",
     "iopub.status.busy": "2021-02-23T12:18:04.583160Z",
     "iopub.status.idle": "2021-02-23T12:18:05.308354Z",
     "shell.execute_reply": "2021-02-23T12:18:05.307149Z"
    },
    "papermill": {
     "duration": 0.749222,
     "end_time": "2021-02-23T12:18:05.308524",
     "exception": false,
     "start_time": "2021-02-23T12:18:04.559302",
     "status": "completed"
    },
    "tags": []
   },
   "outputs": [],
   "source": [
    "import seaborn as sns"
   ]
  },
  {
   "cell_type": "code",
   "execution_count": null,
   "metadata": {
    "execution": {
     "iopub.execute_input": "2021-02-23T12:18:05.354195Z",
     "iopub.status.busy": "2021-02-23T12:18:05.353414Z",
     "iopub.status.idle": "2021-02-23T12:18:14.711673Z",
     "shell.execute_reply": "2021-02-23T12:18:14.710729Z"
    },
    "papermill": {
     "duration": 9.382896,
     "end_time": "2021-02-23T12:18:14.711865",
     "exception": false,
     "start_time": "2021-02-23T12:18:05.328969",
     "status": "completed"
    },
    "tags": []
   },
   "outputs": [],
   "source": [
    "!pip install pynrrd"
   ]
  },
  {
   "cell_type": "code",
   "execution_count": 2,
   "metadata": {
    "execution": {
     "iopub.execute_input": "2021-02-23T12:18:14.762139Z",
     "iopub.status.busy": "2021-02-23T12:18:14.761504Z",
     "iopub.status.idle": "2021-02-23T12:18:19.950108Z",
     "shell.execute_reply": "2021-02-23T12:18:19.951285Z"
    },
    "papermill": {
     "duration": 5.217397,
     "end_time": "2021-02-23T12:18:19.951678",
     "exception": false,
     "start_time": "2021-02-23T12:18:14.734281",
     "status": "completed"
    },
    "tags": []
   },
   "outputs": [],
   "source": [
    "import os\n",
    "from pathlib import Path\n",
    "# Load dependencies\n",
    "\n",
    "import numpy as np\n",
    "import tensorflow as tf\n",
    "from tensorflow.keras.optimizers import Adam\n",
    "import pickle\n",
    "import matplotlib.pyplot as plt\n",
    "import nrrd\n",
    "#\n",
    "plt.style.use('default')"
   ]
  },
  {
   "cell_type": "code",
   "execution_count": 3,
   "metadata": {
    "execution": {
     "iopub.execute_input": "2021-02-23T12:18:20.038189Z",
     "iopub.status.busy": "2021-02-23T12:18:20.010761Z",
     "iopub.status.idle": "2021-02-23T12:18:20.678714Z",
     "shell.execute_reply": "2021-02-23T12:18:20.678162Z"
    },
    "papermill": {
     "duration": 0.696734,
     "end_time": "2021-02-23T12:18:20.678882",
     "exception": false,
     "start_time": "2021-02-23T12:18:19.982148",
     "status": "completed"
    },
    "tags": []
   },
   "outputs": [],
   "source": [
    "import numpy as np\n",
    "import SimpleITK as sitk\n",
    "\n",
    "\n",
    "def computeSegmentationMetrics(y_true, y_pred):\n",
    "    if (y_true > 1).any() or (y_pred > 1).any() or (y_true < 0).any() or (y_pred < 0).any():\n",
    "        print('WARNING: An input value in segmentation_metrics.py>computeSegmentationMetrics is out of bounds')\n",
    "    y_true[y_true >= 0.5] = 1\n",
    "    y_true[y_true  < 0.5] = 0\n",
    "    y_pred[y_pred >= 0.5] = 1\n",
    "    y_pred[y_pred  < 0.5] = 0\n",
    "    y_true = y_true.astype(int)\n",
    "    y_pred = y_pred.astype(int)\n",
    "    if (y_true == 1).any() or (y_pred == 1).any():\n",
    "        Hdist, Hmean, Hbmean, H95 = hausdorff(y_true, y_pred, use_contour=False)\n",
    "        jaccard, dice, similarity, FN, FP = overlapmeasures(y_true, y_pred)\n",
    "    else:\n",
    "        Hdist = -1; Hmean = -1; Hbmean = -1; H95 = -1\n",
    "        jaccard = -1; dice = -1; similarity = -1; FN = -1; FP = -1\n",
    "    metrics = {}\n",
    "    metrics['jaccard_coefficient'] = jaccard\n",
    "    metrics['dice_coefficient']    = dice\n",
    "    metrics['similarity']          = similarity\n",
    "    metrics['False_Negative']      = FN\n",
    "    metrics['False_Positive']      = FP\n",
    "    metrics['hausdorff_distance']  = Hdist\n",
    "    metrics['hausdorff_average_distance']          = Hmean\n",
    "    metrics['hausdorff_balanced_average_distance'] = Hbmean\n",
    "    metrics['hausdorff_max_distance_at_95']        = H95\n",
    "    return metrics\n",
    "\n",
    "\n",
    "def overlapmeasures(ref, candidate):\n",
    "    \"\"\"\n",
    "    Source: http://insightsoftwareconsortium.github.io/SimpleITK-Notebooks/Python_html/34_Segmentation_Evaluation.html\n",
    "            https://stackoverflow.com/questions/47282895/compute-symmetric-surface-distances-python\n",
    "    :param ref:\n",
    "    :param candidate:\n",
    "    :return:\n",
    "    \"\"\"\n",
    "    numpx_ref = int(np.sum(ref[:]))\n",
    "    numpx_can = int(np.sum(candidate[:]))\n",
    "    ref       = sitk.GetImageFromArray(ref)\n",
    "    candidate = sitk.GetImageFromArray(candidate)\n",
    "    # Note that for the overlap measures filter, because we are dealing with a single label we\n",
    "    # use the combined, all labels, evaluation measures without passing a specific label to the methods.\n",
    "    overlap_measures_filter = sitk.LabelOverlapMeasuresImageFilter()\n",
    "    overlap_measures_filter.Execute(ref, candidate)\n",
    "    jaccard    = overlap_measures_filter.GetJaccardCoefficient()\n",
    "    dice       = overlap_measures_filter.GetDiceCoefficient()\n",
    "    similarity = overlap_measures_filter.GetVolumeSimilarity()\n",
    "    if numpx_ref == 0:\n",
    "        FP = -1\n",
    "    else:\n",
    "        FP = overlap_measures_filter.GetFalsePositiveError()\n",
    "    if numpx_can == 0:\n",
    "        FN = -1\n",
    "    else:\n",
    "        FN = overlap_measures_filter.GetFalseNegativeError()\n",
    "    return jaccard, dice, similarity, FN, FP\n",
    "\n",
    "\n",
    "def hausdorff(ref, candidate, use_contour=False):\n",
    "    \"\"\"\n",
    "    Compute the haussdorf distance and related metrics between two masks (2D or 3D)\n",
    "    Source: http://insightsoftwareconsortium.github.io/SimpleITK-Notebooks/Python_html/34_Segmentation_Evaluation.html\n",
    "            https://stackoverflow.com/questions/47282895/compute-symmetric-surface-distances-python\n",
    "    :param ref: (n x m) numpy matrix, reference segmentation's mask, contains only integers {0, 1}\n",
    "    :param candidate: (n x m) numpy matrix, candidate segmentation's mask, contains only integers {0, 1}\n",
    "    :param use_contour: boolean, compute the distance using only the contour or not\n",
    "    :return: hausdorff_distance, hausdorff_mean, hausdorff_bmean, hausdorff_95im\n",
    "    \"\"\"\n",
    "    numpx_ref = int(np.sum(ref[:]))\n",
    "    numpx_can = int(np.sum(candidate[:]))\n",
    "    if numpx_ref != 0 and numpx_can != 0:\n",
    "        ref = sitk.GetImageFromArray(ref)\n",
    "        candidate = sitk.GetImageFromArray(candidate)\n",
    "        # Compute the evaluation criteria\n",
    "        # Note that for the overlap measures filter, because we are dealing with a single label we\n",
    "        # use the combined, all labels, evaluation measures without passing a specific label to the methods.\n",
    "        hausdorff_distance_filter = sitk.HausdorffDistanceImageFilter()\n",
    "        # Use the absolute values of the distance map to compute the surface distances (distance map sign, outside or inside\n",
    "        # relationship, is irrelevant)\n",
    "        if use_contour:\n",
    "            reference_distance_map = sitk.Abs(\n",
    "                sitk.SignedMaurerDistanceMap(ref, squaredDistance=False, useImageSpacing=True))\n",
    "        else:\n",
    "            reference_distance_map = sitk.SignedMaurerDistanceMap(ref, squaredDistance=False, useImageSpacing=True)\n",
    "            reference_distance_map = np.array(sitk.GetArrayViewFromImage(reference_distance_map))\n",
    "            reference_distance_map[reference_distance_map <= 0] = 0.\n",
    "            reference_distance_map = sitk.GetImageFromArray(reference_distance_map)\n",
    "        #\n",
    "        reference_surface = sitk.LabelContour(ref) if use_contour else ref\n",
    "        statistics_image_filter = sitk.StatisticsImageFilter()\n",
    "        # Get the number of pixels in the reference surface by counting all pixels that are 1.\n",
    "        statistics_image_filter.Execute(reference_surface)\n",
    "        num_reference_surface_pixels = int(statistics_image_filter.GetSum())\n",
    "        # Hausdorff distance\n",
    "        hausdorff_distance_filter.Execute(ref, candidate)\n",
    "        hausdorff_distance = hausdorff_distance_filter.GetHausdorffDistance()\n",
    "        # Symmetric surface distance measures\n",
    "        if use_contour:\n",
    "            candidate_distance_map = sitk.Abs(\n",
    "                sitk.SignedMaurerDistanceMap(candidate, squaredDistance=False, useImageSpacing=True))\n",
    "        else:\n",
    "            candidate_distance_map = sitk.SignedMaurerDistanceMap(candidate, squaredDistance=False,\n",
    "                                                                  useImageSpacing=True)\n",
    "            candidate_distance_map = np.array(sitk.GetArrayViewFromImage(candidate_distance_map))\n",
    "            candidate_distance_map[candidate_distance_map < 0] = 0.\n",
    "            candidate_distance_map = sitk.GetImageFromArray(candidate_distance_map)\n",
    "        #\n",
    "        candidate_surface = sitk.LabelContour(candidate) if use_contour else candidate\n",
    "        # Get the number of pixels in the reference surface by counting all pixels that are 1.\n",
    "        statistics_image_filter.Execute(candidate_surface)\n",
    "        num_candidate_surface_pixels = int(statistics_image_filter.GetSum())\n",
    "        # Multiply the binary surface segmentations with the distance maps. The resulting distance\n",
    "        # maps contain non-zero values only on the surface (they can also contain zero on the surface)\n",
    "        can2ref_distance_map = reference_distance_map * sitk.Cast(candidate_surface, sitk.sitkFloat32)\n",
    "        ref2can_distance_map = candidate_distance_map * sitk.Cast(reference_surface, sitk.sitkFloat32)\n",
    "        # Get all non-zero distances and then add zero distances if required.\n",
    "        can2ref_distance_map_arr = sitk.GetArrayViewFromImage(can2ref_distance_map)\n",
    "        can2ref_distances = list(can2ref_distance_map_arr[can2ref_distance_map_arr != 0])\n",
    "        ref2can_distance_map_arr = sitk.GetArrayViewFromImage(ref2can_distance_map)\n",
    "        ref2can_distances = list(ref2can_distance_map_arr[ref2can_distance_map_arr != 0])\n",
    "        all_surface_distances = can2ref_distances + ref2can_distances\n",
    "        # The maximum of the symmetric surface distances is the Hausdorff distance between the surfaces. In\n",
    "        # general, it is not equal to the Hausdorff distance between all voxel/pixel points of the two\n",
    "        # segmentations, though in our case it is. More on this below.\n",
    "        hausdorff_mean = (np.sum(can2ref_distances) / num_candidate_surface_pixels + np.sum(\n",
    "            ref2can_distances) / num_reference_surface_pixels) / 2\n",
    "        if not all_surface_distances:\n",
    "            hausdorff_95 = 0.\n",
    "        else:\n",
    "            hausdorff_95 = np.percentile(all_surface_distances, 95)\n",
    "        # According to\n",
    "        # \"On The Usage Of Average Hausdorff Distance For Segmentation Performance Assessment : Hidden Bias When Used For Ranking\"\n",
    "        # the mean should be computed as :\n",
    "        hausdorff_bmean = (np.sum(can2ref_distances) + np.sum(ref2can_distances)) / (num_reference_surface_pixels * 2)\n",
    "    else:\n",
    "        if numpx_ref == 0 and numpx_can == 0:\n",
    "            max_dist = int(-1)\n",
    "        else:\n",
    "            shape = np.array(ref.shape)\n",
    "            max_dist = np.sqrt(np.sum(shape ** 2))\n",
    "        hausdorff_distance = max_dist\n",
    "        hausdorff_mean = max_dist\n",
    "        hausdorff_bmean = max_dist\n",
    "        hausdorff_95 = max_dist\n",
    "    return hausdorff_distance, hausdorff_mean, hausdorff_bmean, hausdorff_95\n",
    "import numpy as np\n",
    "import os\n",
    "import matplotlib.pyplot as plt\n",
    "#\n",
    "import nrrd\n",
    "from tqdm import tqdm\n",
    "#from smt.sampling_methods import LHS\n",
    "\n",
    "\n",
    "# -------------------------------------------------------------------------------------------------------------------- #\n",
    "# - # - # - # - # - # - # - # - # - # - # - # - #  PRE_PROCESSING  # - # - # - # - # - # - # - # - # - # - # - # - # - #\n",
    "# -------------------------------------------------------------------------------------------------------------------- #\n",
    "\n",
    "\n",
    "def data_scaling(data, normalization=False, centering=False, standardize=False, per_sample=False):\n",
    "    # https://machinelearningmastery.com/how-to-manually-scale-image-pixel-data-for-deep-learning/\n",
    "    eps = 1e-6\n",
    "    if not per_sample:\n",
    "        if normalization:\n",
    "            data = (data - data.min()) / (data.max() - data.min() + eps)\n",
    "        if centering:\n",
    "            data = data - data.mean()\n",
    "        if standardize:\n",
    "            data = (data - data.mean()) / (data.std() + eps)\n",
    "    else:\n",
    "        if data.ndim == 3:\n",
    "            dimaxis = (1, 2)\n",
    "            if normalization:\n",
    "                data = (data - data.min(axis=dimaxis)[:, None, None]) / (data.max(axis=dimaxis) - data.min(axis=dimaxis) + eps)[:, None, None]\n",
    "            if centering:\n",
    "                data = data - data.mean(axis=dimaxis)[:, None, None]\n",
    "            if standardize:\n",
    "                data = (data - data.mean(axis=dimaxis)[:, None, None]) / (data.std(axis=dimaxis)[:, None, None] + eps)\n",
    "        elif data.ndim == 4:\n",
    "            dimaxis = (1, 2, 3)\n",
    "            if normalization:\n",
    "                data = (data - data.min(axis=dimaxis)[:, None, None, None]) / (data.max(axis=dimaxis) - data.min(axis=dimaxis) + eps)[:, None, None, None]\n",
    "            if centering:\n",
    "                data = data - data.mean(axis=dimaxis)[:, None, None, None]\n",
    "            if standardize:\n",
    "                data = (data - data.mean(axis=dimaxis)[:, None, None, None]) / (data.std(axis=dimaxis)[:, None, None, None] + eps)\n",
    "    return data\n",
    "\n",
    "# -------------------------------------------------------------------------------------------------------------------- #\n",
    "# - # - # - # - # - # - # - # - # - # - # - # POST-PROCESSING  # - # - # - # - # - # - # - # - # - # - # - # - # - # - #\n",
    "# -------------------------------------------------------------------------------------------------------------------- #\n",
    "\n",
    "\n",
    "def test_time_augmentation_segmentation(data, model, patch_size, n_tta=5, n_split=1, regular=False):\n",
    "    if regular:\n",
    "        n_tta = (n_tta - n_tta % 2) + 1\n",
    "        print('If regular is activated the patches are computed in two rows')\n",
    "    #\n",
    "    patch_size = int(patch_size)\n",
    "    size_data  = data.shape\n",
    "    # predict the segmentation\n",
    "    n_patch = np.ceil(np.array(size_data[:2]) / patch_size).astype(np.int)\n",
    "    lin_ind_x = patch_size*np.array(range(n_patch[0]+1))\n",
    "    lin_ind_y = patch_size*np.array(range(n_patch[1]+1))\n",
    "    #\n",
    "    shift = np.round(patch_size / 2)\n",
    "    if not regular: sampling = LHS(xlimits=np.array([[-shift, shift], [-shift, shift]]))  # latin hypercube\n",
    "    aux     = np.zeros(size_data)\n",
    "    weights = np.zeros(size_data)\n",
    "    #\n",
    "    lin_ind = [int(k) for k in np.round(np.linspace(0, n_patch[0]*n_patch[1]*size_data[-1], n_split + 1))]\n",
    "    for k in tqdm(range(n_split)):\n",
    "        patch = np.empty(((lin_ind[k+1]-lin_ind[k])*n_tta, patch_size, patch_size, 1))\n",
    "        Lx_m = []\n",
    "        Ly_m = []\n",
    "        Lz_m = []\n",
    "        L_x = []\n",
    "        L_y = []\n",
    "        L_z = []\n",
    "        cnt = 0\n",
    "        for i in range(lin_ind[k], lin_ind[k+1]):\n",
    "            idz = int(i // (n_patch[0]*n_patch[1]))\n",
    "            idx = int((i % (n_patch[0]*n_patch[1]))  % n_patch[0])\n",
    "            idy = int((i % (n_patch[0]*n_patch[1])) // n_patch[0])\n",
    "            if regular:\n",
    "                ylin = np.linspace(-shift, shift, int((n_tta-1)/2)) if (n_tta-1)/2 >= 2 else 0\n",
    "                xx, yy = np.meshgrid(np.array([-shift, shift]), ylin)\n",
    "                xy = np.concatenate((np.reshape(xx, (-1, 1)), np.reshape(yy, (-1, 1))), axis=1)\n",
    "                sampl_loc = np.concatenate((np.zeros((1, 2)), xy), axis=0)\n",
    "            else:\n",
    "                sampl_loc = np.concatenate((np.zeros((1, 2)), np.round(sampling(n_tta-1))), axis=0)\n",
    "            for j in range(n_tta):\n",
    "                id_x_bot = int(lin_ind_x[idx] + sampl_loc[j, 0])\n",
    "                id_x_sup = id_x_bot + patch_size\n",
    "                id_y_bot = int(lin_ind_y[idy] + sampl_loc[j, 1])\n",
    "                id_y_sup = id_y_bot + patch_size\n",
    "                if id_x_bot < size_data[0] and id_x_sup > 0 and id_y_bot < size_data[1] and id_y_sup > 0:\n",
    "                    # The values on the border are mirrored\n",
    "                    l0x = np.arange(id_x_bot, id_x_sup).astype(np.int)\n",
    "                    l_x = np.abs(l0x)\n",
    "                    l_x[l_x >= size_data[0]] = l_x[l_x >= size_data[0]] - (l_x[l_x >= size_data[0]] % (size_data[0] - 1))\n",
    "                    l0y = np.arange(id_y_bot, id_y_sup).astype(np.int)\n",
    "                    l_y = np.abs(l0y)\n",
    "                    l_y[l_y >= size_data[1]] = l_y[l_y >= size_data[1]] - (l_y[l_y >= size_data[1]] % (size_data[1] - 1))\n",
    "                    l_x, l_y = np.meshgrid(l_x, l_y)\n",
    "                    l_x = np.reshape(l_x, -1)\n",
    "                    l_y = np.reshape(l_y, -1)\n",
    "                    # Indices for patch of interest\n",
    "                    f_id_x_bot = int(np.where(l0x >= 0)[0][0])\n",
    "                    f_id_x_sup = int(np.where(l0x  < size_data[0])[0][-1]) + 1\n",
    "                    f_id_y_bot = int(np.where(l0y >= 0)[0][0])\n",
    "                    f_id_y_sup = int(np.where(l0y  < size_data[1])[0][-1]) + 1\n",
    "                    fl_x, fl_y = np.meshgrid(np.arange(f_id_x_bot, f_id_x_sup), np.arange(f_id_y_bot, f_id_y_sup))\n",
    "                    fl_x = np.reshape(fl_x, -1); fl_y = np.reshape(fl_y, -1)\n",
    "                    Lx_m.append(fl_x)\n",
    "                    Ly_m.append(fl_y)\n",
    "                    Lz_m.append((cnt*np.ones(len(fl_x))).astype(np.int))\n",
    "                    #\n",
    "                    l2_x, l2_y = np.meshgrid(l0x[f_id_x_bot:f_id_x_sup], l0y[f_id_y_bot:f_id_y_sup])\n",
    "                    l2_x = np.reshape(l2_x, -1)\n",
    "                    l2_y = np.reshape(l2_y, -1)\n",
    "                    L_x.append(l2_x)\n",
    "                    L_y.append(l2_y)\n",
    "                    L_z.append((idz*np.ones(len(l2_x))).astype(np.int))\n",
    "                    # Patch extraction\n",
    "                    patch[cnt, :, :, 0] = np.reshape(data[l_x, l_y, idz], (patch_size, patch_size)).T\n",
    "                else:\n",
    "                    patch[cnt, :, :, 0] = np.zeros(patch[cnt, :, :, 0].shape)\n",
    "                # plt.matshow(patch[cnt, :, :, 0])\n",
    "                #\n",
    "                cnt += 1\n",
    "        Lx_m = np.concatenate(Lx_m); Ly_m = np.concatenate(Ly_m); Lz_m = np.concatenate(Lz_m)\n",
    "        L_x  = np.concatenate(L_x);  L_y  = np.concatenate(L_y);  L_z  = np.concatenate(L_z)\n",
    "        # Segmentation\n",
    "        mask  = model.predict(patch)\n",
    "        # Attribute weights and values\n",
    "        for i in range(len(L_x)):\n",
    "            weights[L_x[i], L_y[i], L_z[i]] += 1\n",
    "            aux[L_x[i], L_y[i], L_z[i]] += mask[Lz_m[i], Lx_m[i], Ly_m[i], 0]\n",
    "    data_s = aux / weights\n",
    "    # export the result\n",
    "    # data_s = (data_s >= 0.5) * 255.0\n",
    "    # data_s = data_s * 255.0\n",
    "    return data_s\n",
    "\n",
    "\n",
    "# -------------------------------------------------------------------------------------------------------------------- #\n",
    "# - # - # - # - # - # - # - # - # - # - # FOR ALL  KIND  OF PROCESSING # - # - # - # - # - # - # - # - # - # - # - # - #\n",
    "# -------------------------------------------------------------------------------------------------------------------- #\n",
    "\n",
    "\n",
    "def rebuild_from_patches(patches, dim_image, scaling=1, dim=2):\n",
    "    \"\"\"\n",
    "    :param patches: np.array of patches (nb_of_patches, size_patch, size_patch, nb_of_channel)\n",
    "    :param dim_image: int, dimension in pixels of the target image (not necessarily square)\n",
    "    :param scaling: factor to scale the data\n",
    "    :param dim: dimension of the patches\n",
    "    :return: image, reconstructed stack\n",
    "    \"\"\"\n",
    "    dim_image = np.array(dim_image).astype(np.int)\n",
    "    if len(dim_image) == 1:\n",
    "        dim_image = (dim_image, )*dim\n",
    "    #\n",
    "    nb_of_patches = patches.shape[0]\n",
    "    size_patch = patches.shape[1]\n",
    "    n_patch_per_dim = np.ceil(np.array(dim_image) / size_patch)\n",
    "    nb_of_channel = int(patches.shape[-1])\n",
    "    if dim == 2:\n",
    "        n_slices = nb_of_patches / n_patch_per_dim[0] / n_patch_per_dim[1]\n",
    "        if n_slices == np.round(n_slices):\n",
    "            n_slices = int(n_slices)\n",
    "        else:\n",
    "            raise ValueError('The number of slices should be an integer')\n",
    "        image = np.empty([dim_image[0], dim_image[1], n_slices, nb_of_channel], dtype='float32')\n",
    "        for i_patch in range(nb_of_patches):\n",
    "            id_z = int(i_patch // (n_patch_per_dim[0] * n_patch_per_dim[1]))\n",
    "            id_x = (i_patch - id_z * n_patch_per_dim[0] * n_patch_per_dim[1]) % n_patch_per_dim[0]\n",
    "            id_y = (i_patch - id_z * n_patch_per_dim[0] * n_patch_per_dim[1]) // n_patch_per_dim[0]\n",
    "            id_x_bot = int(size_patch * id_x)\n",
    "            id_x_sup = int(np.min((size_patch * (id_x + 1), dim_image[0])))\n",
    "            id_y_bot = int(size_patch * id_y)\n",
    "            id_y_sup = int(np.min((size_patch * (id_y + 1), dim_image[1])))\n",
    "            for i_channel in range(nb_of_channel):\n",
    "                tmp = patches[i_patch, :, :, i_channel] * scaling\n",
    "                if tmp.shape[0] != size_patch:\n",
    "                    tmp = np.concatenate((tmp, np.zeros(size_patch - tmp.shape[0], tmp.shape[1])), axis=0)\n",
    "                if tmp.shape[1] != size_patch:\n",
    "                    tmp = np.concatenate((tmp, np.zeros(tmp.shape[0], size_patch - tmp.shape[1])), axis=1)\n",
    "                image[id_x_bot:id_x_sup, id_y_bot:id_y_sup, id_z, i_channel] = tmp[:id_x_sup - id_x_bot, :id_y_sup - id_y_bot]\n",
    "    elif dim == 3:\n",
    "        image = np.empty([dim_image[0], dim_image[1], dim_image[2], nb_of_channel], dtype='float32')\n",
    "        for i_patch in range(nb_of_patches):\n",
    "            id_x = int(i_patch % n_patch_per_dim[0])\n",
    "            id_y = int((i_patch // n_patch_per_dim[0]) % n_patch_per_dim[1])\n",
    "            id_z = int(i_patch // (n_patch_per_dim[0] * n_patch_per_dim[1]))\n",
    "            id_x_bot = int(size_patch * id_x)\n",
    "            id_x_sup = int(np.min((size_patch * (id_x + 1), dim_image[0])))\n",
    "            id_y_bot = int(size_patch * id_y)\n",
    "            id_y_sup = int(np.min((size_patch * (id_y + 1), dim_image[1])))\n",
    "            id_z_bot = int(size_patch * id_z)\n",
    "            id_z_sup = int(np.min((size_patch * (id_z + 1), dim_image[2])))\n",
    "            for i_channel in range(nb_of_channel):\n",
    "                tmp = patches[i_patch, :, :, :, i_channel] * scaling\n",
    "                if tmp.shape[0] != size_patch:\n",
    "                    tmp = np.concatenate((tmp, np.zeros(size_patch - tmp.shape[0], tmp.shape[1], tmp.shape[2])), axis=0)\n",
    "                if tmp.shape[1] != size_patch:\n",
    "                    tmp = np.concatenate((tmp, np.zeros(tmp.shape[0], size_patch - tmp.shape[1], tmp.shape[2])), axis=1)\n",
    "                if tmp.shape[2] != size_patch:\n",
    "                    tmp = np.concatenate((tmp, np.zeros(tmp.shape[0], tmp.shape[1], size_patch - tmp.shape[2])), axis=2)\n",
    "                image[id_x_bot:id_x_sup, id_y_bot:id_y_sup, id_z_bot:id_z_sup, i_channel] = \\\n",
    "                    tmp[:id_x_sup - id_x_bot, :id_y_sup - id_y_bot, :id_z_sup - id_z_bot]\n",
    "    return image\n",
    "\n",
    "\n",
    "def image2patches(patch_size, filepath=None, image=None, factor=1., n_channels=1, dim=2):\n",
    "    \"\"\"\n",
    "    Export the data from the filepath variable\n",
    "    :param filepath: complete path of the data\n",
    "    :param image: image (cannot be used with filepath)\n",
    "    :param patch_size: size of the patches (square)\n",
    "    :param factor: value weighting the output\n",
    "    :param n_channels: number of colors channels\n",
    "    :param dim: dimension of the patches\n",
    "    :return: numpy array containing the stack from image_path rescaled in [0, 1]\n",
    "    \"\"\"\n",
    "    if filepath is not None:\n",
    "        if os.path.splitext(filepath)[1] == '.nrrd':\n",
    "            data_image  = nrrd.read(filepath)[0]\n",
    "        else:\n",
    "            raise ImportError('The file must be a nrrd')\n",
    "    else:\n",
    "        if image is not None:\n",
    "            data_image = image\n",
    "        else:\n",
    "            raise ValueError('Inputs must contain filepath or stack variable')\n",
    "    #\n",
    "    if data_image.min() < 0:\n",
    "        data_image = data_image - data_image.min()\n",
    "    data_image = (data_image / data_image.max()) * 255.\n",
    "    #\n",
    "    stack_size  = data_image.shape\n",
    "    num_patch_r = np.ceil(stack_size[0] / patch_size)\n",
    "    num_patch_c = np.ceil(stack_size[1] / patch_size)\n",
    "    num_patch_d = np.ceil(stack_size[2] / patch_size) if dim == 3 else stack_size[2]\n",
    "    nb_patch    = int(num_patch_r * num_patch_c * num_patch_d)\n",
    "    if dim == 2:\n",
    "        X = np.empty((nb_patch, patch_size, patch_size, n_channels), dtype='float32')\n",
    "    elif dim == 3:\n",
    "        X = np.empty((nb_patch, patch_size, patch_size, patch_size, n_channels), dtype='float32')\n",
    "    # Generate data\n",
    "    for i in range(nb_patch):\n",
    "        # Store sample (values must be in [0, 1])\n",
    "        if dim == 2:\n",
    "            X[i, :, :, 0] = get_patch(patch_size, data_image, i) * factor\n",
    "        elif dim == 3:\n",
    "            X[i, :, :, :, 0] = get_patch3D(patch_size, data_image, i) * factor\n",
    "    return X\n",
    "\n",
    "def get_patch(patch_size, data, i_patch):\n",
    "    # the patch increment i_patch goes through the rows, then the columns and finally the stacks\n",
    "    shape_patch_pattern = np.ceil(np.array(data.shape[:2]) / patch_size)\n",
    "    id_stack = int(i_patch // (shape_patch_pattern[0] * shape_patch_pattern[1]))\n",
    "    n_col    = int((i_patch - id_stack * (shape_patch_pattern[0] * shape_patch_pattern[1])) // shape_patch_pattern[0])\n",
    "    id_col   = np.array([n_col, n_col + 1]) * patch_size\n",
    "    n_row    = int(i_patch - id_stack * (shape_patch_pattern[0] * shape_patch_pattern[1]) - n_col * shape_patch_pattern[0])\n",
    "    id_row   = np.array([n_row, n_row + 1]) * patch_size\n",
    "    patch    = data[id_row[0]:min(id_row[1], data.shape[0]), id_col[0]:min(id_col[1], data.shape[1]), id_stack]\n",
    "    if patch.shape[0] < patch_size:  # I add a stripe of black on the right if necessary\n",
    "        patch = np.concatenate((patch, np.zeros((patch_size - patch.shape[0], patch.shape[1]))), axis=0)\n",
    "    if patch.shape[1] < patch_size:  # I add a stripe of black on the bottom if necessary\n",
    "        patch = np.concatenate((patch, np.zeros((patch.shape[0], patch_size - patch.shape[1]))), axis=1)\n",
    "    return patch\n",
    "\n",
    "\n",
    "def get_patch3D(patch_size, data, i_patch):\n",
    "    # the patch increment i_patch goes through the rows, then the columns and finally the stacks\n",
    "    shape_patch_pattern = np.ceil(np.array(data.shape) / patch_size)\n",
    "    n_row  = int(i_patch % shape_patch_pattern[0])\n",
    "    n_col  = int((i_patch // shape_patch_pattern[0]) % shape_patch_pattern[1])\n",
    "    n_stk  = int(i_patch // (shape_patch_pattern[0] * shape_patch_pattern[1]))\n",
    "    id_row = np.array([n_row, n_row + 1]) * patch_size\n",
    "    id_col = np.array([n_col, n_col + 1]) * patch_size\n",
    "    id_stk = np.array([n_stk, n_stk + 1]) * patch_size\n",
    "\n",
    "    patch    = data[id_row[0]:min(id_row[1], data.shape[0]), id_col[0]:min(id_col[1], data.shape[1]), id_stk[0]:min(id_stk[1], data.shape[2])]\n",
    "    if patch.shape[0] < patch_size:  # I add a stripe of black on the right if necessary\n",
    "        patch = np.concatenate((patch, np.zeros((patch_size - patch.shape[0], patch.shape[1], patch.shape[2]))), axis=0)\n",
    "    if patch.shape[1] < patch_size:  # I add a stripe of black on the bottom if necessary\n",
    "        patch = np.concatenate((patch, np.zeros((patch.shape[0], patch_size - patch.shape[1], patch.shape[2]))), axis=1)\n",
    "    if patch.shape[2] < patch_size:  # I add a stripe of black on the bottom if necessary\n",
    "        patch = np.concatenate((patch, np.zeros((patch.shape[0], patch.shape[1], patch_size - patch.shape[2]))), axis=2)\n",
    "    return patch"
   ]
  },
  {
   "cell_type": "code",
   "execution_count": 18,
   "metadata": {
    "execution": {
     "iopub.execute_input": "2021-02-23T12:18:20.752056Z",
     "iopub.status.busy": "2021-02-23T12:18:20.743928Z",
     "iopub.status.idle": "2021-02-23T12:18:20.754658Z",
     "shell.execute_reply": "2021-02-23T12:18:20.754148Z"
    },
    "papermill": {
     "duration": 0.052876,
     "end_time": "2021-02-23T12:18:20.754779",
     "exception": false,
     "start_time": "2021-02-23T12:18:20.701903",
     "status": "completed"
    },
    "tags": []
   },
   "outputs": [],
   "source": [
    "from tensorflow.keras.models import *\n",
    "from tensorflow.keras.layers import *\n",
    "from tensorflow.keras.optimizers import *\n",
    "\n",
    "\n",
    "def unet(pretrained_weights=None, input_size=(64, 64, 1), drop_rate=0.0, half_Unet=False, learning_rate=1e-4):\n",
    "    if half_Unet:\n",
    "        fact = 2\n",
    "    else:\n",
    "        fact = 1\n",
    "    alpha_ =0.1\n",
    "    # First half\n",
    "    inputs = Input(input_size)\n",
    "    conv1 = Conv2D(64/fact, 3, activation='relu', padding='same',data_format = 'channels_last',groups= 1,use_bias= True, kernel_initializer={'class_name': 'HeNormal', 'config': {'seed': None}},bias_initializer= {'class_name': 'Zeros', 'config': {}})(inputs)\n",
    "    #conv1 = LeakyReLU(alpha=alpha_)(conv1)\n",
    "    batch1 = BatchNormalization(axis = 1)(conv1)\n",
    "    #drop1 = Dropout(drop_rate)(batch1)\n",
    "    conv1 = Conv2D(128/fact, 3, activation='relu', padding='same', kernel_initializer='he_normal')(batch1)\n",
    "    #conv1 = LeakyReLU(alpha=alpha_)(conv1)\n",
    "    batch1 = BatchNormalization(axis = 1)(conv1)\n",
    "    \n",
    "    pool1 = MaxPooling2D(pool_size=(2, 2))(batch1)\n",
    "    conv2 = Conv2D(128/fact, 3, activation='relu', padding='same', kernel_initializer='he_normal')(pool1)\n",
    "    #conv2 = LeakyReLU(alpha=alpha_)(conv2)\n",
    "    batch2 = BatchNormalization(axis = 1)(conv2)\n",
    "    drop2 = Dropout(drop_rate)(batch2)\n",
    "    conv2 = Conv2D(256/fact, 3, activation='relu', padding='same', kernel_initializer='he_normal')(drop2)\n",
    "    #conv2 = LeakyReLU(alpha=alpha_)(conv2)\n",
    "    batch2 = BatchNormalization(axis = 1)(conv2)\n",
    "    \n",
    "    pool2 = MaxPooling2D(pool_size=(2, 2))(batch2)\n",
    "    conv3 = Conv2D(256/fact, 3, activation='relu', padding='same', kernel_initializer='he_normal')(pool2)\n",
    "    #conv3 = LeakyReLU(alpha=alpha_)(conv3)\n",
    "    batch3 = BatchNormalization(axis = 1)(conv3)\n",
    "    drop3 = Dropout(drop_rate)(batch3)\n",
    "    conv3 = Conv2D(512/fact, 3, activation='relu', padding='same', kernel_initializer='he_normal')(drop3)\n",
    "    #conv3 = LeakyReLU(alpha=alpha_)(conv3)\n",
    "    batch3 = BatchNormalization(axis = 1)(conv3)\n",
    "    #\n",
    "    pool3 = MaxPooling2D(pool_size=(2, 2))(batch3)\n",
    "    conv4 = Conv2D(512/fact, 3, activation='relu', padding='same', kernel_initializer='he_normal')(pool3)\n",
    "    #conv4 = LeakyReLU(alpha=alpha_)(conv4)\n",
    "    batch4 = BatchNormalization(axis = 1)(conv4)\n",
    "    drop4 = Dropout(drop_rate)(batch4)\n",
    "    conv4 = Conv2D(1024/fact, 3, activation='relu', padding='same', kernel_initializer='he_normal')(drop4)\n",
    "    #conv4 = LeakyReLU(alpha=alpha_)(conv4)\n",
    "    batch4 = BatchNormalization(axis = 1)(conv4)\n",
    "    #\n",
    "    '''pool4 = MaxPooling2D(pool_size=(5, 5))(batch4)\n",
    "    conv5 = Conv2D(1024/fact, 3, activation='relu', padding='same', kernel_initializer='he_normal')(pool4)\n",
    "    batch5 = BatchNormalization()(conv5)\n",
    "    drop5 = Dropout(drop_rate)(batch5)\n",
    "    conv5 = Conv2D(1024/fact, 3, activation='relu', padding='same', kernel_initializer='he_normal')(drop5)\n",
    "    batch5 = BatchNormalization()(conv5)\n",
    "\n",
    "    # Second half\n",
    "    \n",
    "    #up6 = Conv2DTranspose(512/fact, (2, 2), strides=(2, 2), padding='same') (batch5)\n",
    "    up6    = UpSampling2D(size=(5,5))(batch5)\n",
    "    merge6 = concatenate([batch4, up6], axis=3)\n",
    "    conv6  = Conv2D(512/fact, 3, activation='relu', padding='same', kernel_initializer='he_normal')(merge6)\n",
    "    batch6 = BatchNormalization()(conv6)\n",
    "    drop6  = Dropout(drop_rate)(batch6)\n",
    "    conv6  = Conv2D(512/fact, 3, activation='relu', padding='same', kernel_initializer='he_normal')(drop6)\n",
    "    batch6 = BatchNormalization()(conv6)\n",
    "    #up7 = Conv2DTranspose(512/fact, (2, 2), strides=(2, 2), padding='same') (batch4)'''\n",
    "    #\n",
    "    up7    = UpSampling2D(size=(2, 2))(batch4)\n",
    "    merge7 = concatenate([batch3, up7], axis=-1)\n",
    "    conv7  = Conv2D(512/fact, 3, activation='relu', padding='same', kernel_initializer='he_normal')(merge7)\n",
    "    #conv7 = LeakyReLU(alpha=alpha_)(conv7)\n",
    "    batch7 = BatchNormalization(axis = 1)(conv7)\n",
    "    drop7  = Dropout(drop_rate)(batch7)\n",
    "    conv7  = Conv2D(512/fact, 3, activation='relu', padding='same', kernel_initializer='he_normal')(drop7)\n",
    "    #conv7 = LeakyReLU(alpha=alpha_)(conv7)\n",
    "    batch7 = BatchNormalization(axis = 1)(conv7)\n",
    "    \n",
    "    up8    = UpSampling2D(size=(2, 2))(batch7)\n",
    "    merge8 = concatenate([batch2, up8], axis=-1)\n",
    "    conv8  = Conv2D(256/fact, 3, activation='relu', padding='same', kernel_initializer='he_normal')(merge8)\n",
    "    #conv8 = LeakyReLU(alpha=alpha_)(conv8)\n",
    "    batch8 = BatchNormalization(axis = 1)(conv8)\n",
    "    drop8  = Dropout(drop_rate)(batch8)\n",
    "    conv8  = Conv2D(256/fact, 3, activation='relu', padding='same', kernel_initializer='he_normal')(drop8)\n",
    "    #conv8 = LeakyReLU(alpha=alpha_)(conv8)\n",
    "    batch8 = BatchNormalization(axis = 1)(conv8)\n",
    "    \n",
    "    up9    = UpSampling2D(size=(2, 2))(batch8)\n",
    "    merge9 = concatenate([batch1, up9], axis=-1)\n",
    "    conv9  = Conv2D(128/fact, 3, activation='relu', padding='same', kernel_initializer='he_normal')(merge9)\n",
    "    #conv9 = LeakyReLU(alpha=alpha_)(conv9)\n",
    "    batch9 = BatchNormalization(axis = 1)(conv9)\n",
    "    drop9  = Dropout(drop_rate)(batch9)\n",
    "    conv9  = Conv2D(128/fact, 3, activation='relu', padding='same', kernel_initializer='he_normal')(drop9)\n",
    "    #conv9 = LeakyReLU(alpha=alpha_)(conv9)\n",
    "    batch9 = BatchNormalization(axis = 1)(conv9)\n",
    "    #not in the paper\n",
    "    conv9  = Conv2D(1, 1, activation='linear', padding='same', kernel_initializer='he_normal')(batch9)\n",
    "    #conv9 = LeakyReLU(alpha=alpha_)(conv9)\n",
    "    #batch9 = BatchNormalization()(conv9)\n",
    "    #\n",
    "    conv10 = tf.keras.activations.sigmoid(conv9)\n",
    "    #conv10 = Conv2D(1, 1, activation='sigmoid')(conv9)\n",
    "\n",
    "    model = Model(inputs=inputs, outputs=conv10)\n",
    "\n",
    "    # model.compile(optimizer=Adam(lr=learning_rate), loss='binary_crossentropy', metrics=['accuracy'])\n",
    "    # model.summary()\n",
    "\n",
    "    if (pretrained_weights):\n",
    "        model.load_weights(pretrained_weights)\n",
    "\n",
    "    return model"
   ]
  },
  {
   "cell_type": "code",
   "execution_count": 4,
   "metadata": {
    "execution": {
     "iopub.execute_input": "2021-02-23T12:18:20.807747Z",
     "iopub.status.busy": "2021-02-23T12:18:20.806847Z",
     "iopub.status.idle": "2021-02-23T12:18:23.388048Z",
     "shell.execute_reply": "2021-02-23T12:18:23.386702Z"
    },
    "papermill": {
     "duration": 2.610376,
     "end_time": "2021-02-23T12:18:23.388195",
     "exception": false,
     "start_time": "2021-02-23T12:18:20.777819",
     "status": "completed"
    },
    "tags": []
   },
   "outputs": [
    {
     "name": "stdout",
     "output_type": "stream",
     "text": [
      "Device mapping: no known devices.\n"
     ]
    }
   ],
   "source": [
    "# trick from \n",
    "# https://stackoverflow.com/questions/53698035/failed-to-get-convolution-algorithm-this-is-probably-because-cudnn-failed-to-in\n",
    "use_trick = True\n",
    "if use_trick:\n",
    "    import tensorflow as tf\n",
    "    from tensorflow.compat.v1.keras.backend import set_session\n",
    "    config = tf.compat.v1.ConfigProto()\n",
    "    config.gpu_options.allow_growth = True  # dynamically grow the memory used on the GPU\n",
    "    config.log_device_placement = True  # to log device placement (on which device the operation ran)\n",
    "    sess = tf.compat.v1.Session(config=config)\n",
    "    set_session(sess)"
   ]
  },
  {
   "cell_type": "code",
   "execution_count": null,
   "metadata": {
    "execution": {
     "iopub.execute_input": "2021-02-23T12:18:23.445810Z",
     "iopub.status.busy": "2021-02-23T12:18:23.443641Z",
     "iopub.status.idle": "2021-02-23T12:18:23.446550Z",
     "shell.execute_reply": "2021-02-23T12:18:23.447102Z"
    },
    "papermill": {
     "duration": 0.035486,
     "end_time": "2021-02-23T12:18:23.447268",
     "exception": false,
     "start_time": "2021-02-23T12:18:23.411782",
     "status": "completed"
    },
    "tags": []
   },
   "outputs": [],
   "source": [
    "file = tf.io.gfile.glob('../input/first-data')\n",
    "file_val = tf.io.gfile.glob('../input/first-data')"
   ]
  },
  {
   "cell_type": "code",
   "execution_count": 34,
   "metadata": {},
   "outputs": [],
   "source": [
    "infile = open('data_pred.pickle','rb')\n",
    "DATA = pickle.load(infile)\n",
    "infile.close()"
   ]
  },
  {
   "cell_type": "code",
   "execution_count": 103,
   "metadata": {},
   "outputs": [
    {
     "data": {
      "text/plain": [
       "1736"
      ]
     },
     "execution_count": 103,
     "metadata": {},
     "output_type": "execute_result"
    }
   ],
   "source": [
    "DATA['output'].shape[0]"
   ]
  },
  {
   "cell_type": "code",
   "execution_count": 41,
   "metadata": {},
   "outputs": [],
   "source": [
    "def rotation_up_down(data_x, data_y):\n",
    "    data_x_res = np.zeros(data_x.shape)\n",
    "    data_y_res = np.zeros(data_x.shape)\n",
    "    for i in range(1736):\n",
    "        x = tf.image.flip_up_down(data_x[i].reshape((64, 64, 1)))\n",
    "        y = tf.image.flip_up_down(data_y[i].reshape((64, 64, 1)))\n",
    "        data_x_res[i] = np.array(x).reshape((1, 64, 64))\n",
    "        data_y_res[i] = np.array(y).reshape((1, 64, 64))\n",
    "    return data_x_res, data_y_res\n",
    "\n",
    "def rotation_left_right(data_x, data_y):\n",
    "    data_x_res = np.zeros(data_x.shape)\n",
    "    data_y_res = np.zeros(data_x.shape)\n",
    "    for i in range(1736):\n",
    "        x = tf.image.flip_left_right(data_x[i].reshape((64, 64, 1)))\n",
    "        y = tf.image.flip_left_right(data_y[i].reshape((64, 64, 1)))\n",
    "        data_x_res[i] = np.array(x).reshape((1, 64, 64))\n",
    "        data_y_res[i] = np.array(y).reshape((1, 64, 64))\n",
    "    return data_x_res, data_y_res\n",
    "\n",
    "def rot90(data_x, data_y):\n",
    "    data_x_res = np.zeros(data_x.shape)\n",
    "    data_y_res = np.zeros(data_x.shape)\n",
    "    for i in range(1736):\n",
    "        x = tf.image.rot90(data_x[i].reshape((64, 64, 1)))\n",
    "        y = tf.image.rot90(data_y[i].reshape((64, 64, 1)))\n",
    "        data_x_res[i] = np.array(x).reshape((1, 64, 64))\n",
    "        data_y_res[i] = np.array(y).reshape((1, 64, 64))\n",
    "    return data_x_res, data_y_res\n",
    "\n",
    "\n",
    "def adjust_brightness(data_x, data_y):\n",
    "    data_x_res = np.zeros(data_x.shape)\n",
    "    data_y_res = np.zeros(data_x.shape)\n",
    "    for i in range(1736):\n",
    "        x = tf.image.adjust_brightness(data_x[i].reshape((64, 64, 1)),0.4)\n",
    "        y = tf.image.adjust_brightness(data_y[i].reshape((64, 64, 1)),0.4)\n",
    "        data_x_res[i] = np.array(x).reshape((1, 64, 64))\n",
    "        data_y_res[i] = np.array(y).reshape((1, 64, 64))\n",
    "    return data_x_res, data_y_res"
   ]
  },
  {
   "cell_type": "code",
   "execution_count": 42,
   "metadata": {},
   "outputs": [],
   "source": [
    "#x_adjust_saturation, y_adjust_saturation = adjust_saturation(DATA['l1_pred'], DATA['input'])\n",
    "\n",
    "x_adjust_brightness, y_adjust_brightness = adjust_brightness(DATA['l1_pred'], DATA['output'])\n",
    "x_up_down, y_up_down = rotation_up_down(DATA['l1_pred'], DATA['output'])\n",
    "x_left_right, y_left_right = rotation_left_right(DATA['l1_pred'], DATA['output'])\n",
    "x_rot90, y_rot90 = rot90(DATA['l1_pred'], DATA['output'])\n"
   ]
  },
  {
   "cell_type": "code",
   "execution_count": 47,
   "metadata": {},
   "outputs": [],
   "source": [
    "X_test =np.concatenate((DATA['l1_pred'], x_up_down,x_adjust_brightness,x_left_right,x_rot90), axis = 0)\n",
    "y_test =np.concatenate((DATA['output'],  y_up_down,y_adjust_brightness,y_left_right,y_rot90), axis = 0)\n"
   ]
  },
  {
   "cell_type": "code",
   "execution_count": 106,
   "metadata": {},
   "outputs": [
    {
     "data": {
      "text/plain": [
       "(868, 1, 64, 64)"
      ]
     },
     "execution_count": 106,
     "metadata": {},
     "output_type": "execute_result"
    }
   ],
   "source": [
    "X_valid.shape"
   ]
  },
  {
   "cell_type": "code",
   "execution_count": 49,
   "metadata": {},
   "outputs": [],
   "source": [
    "from sklearn.model_selection import train_test_split\n",
    "\n",
    "X_train, X_valid, y_train, y_valid = train_test_split(X_test, y_test, test_size=0.1, random_state=42)\n",
    "\n",
    "x,y,z,_ = X_valid.shape\n",
    "x1,y,z,_ = X_train.shape\n",
    "data_x_train = X_train.reshape(x1, 64, 64, 1).astype('float32')\n",
    "data_y_train = y_train.reshape(x1,64, 64, 1).astype('float32')\n",
    "data_x_valid = X_valid.reshape(x, 64, 64, 1).astype('float32')\n",
    "data_y_valid =y_valid.reshape(x, 64, 64, 1).astype('float32')"
   ]
  },
  {
   "cell_type": "code",
   "execution_count": null,
   "metadata": {},
   "outputs": [],
   "source": [
    "data_y_train[data_y_train>=255/2] = 255\n",
    "data_y_train[data_y_train<255/2] = 0\n",
    "data_x_train = (data_x_train - data_x_train.min())/(data_x_train.max() - data_x_train.min())\n",
    "data_y_train = (data_y_train - data_y_train.min())/(data_y_train.max() - data_y_train.min())\n",
    "data_x_valid = (data_x_valid - data_x_valid.min())/(data_x_valid.max() - data_x_valid.min())\n",
    "data_y_valid = (data_y_valid - data_y_valid.min())/(data_y_valid.max() - data_y_valid.min())"
   ]
  },
  {
   "cell_type": "code",
   "execution_count": null,
   "metadata": {
    "execution": {
     "iopub.execute_input": "2021-02-23T12:18:23.508780Z",
     "iopub.status.busy": "2021-02-23T12:18:23.508106Z",
     "iopub.status.idle": "2021-02-23T12:18:26.067256Z",
     "shell.execute_reply": "2021-02-23T12:18:26.066645Z"
    },
    "papermill": {
     "duration": 2.593983,
     "end_time": "2021-02-23T12:18:26.067415",
     "exception": false,
     "start_time": "2021-02-23T12:18:23.473432",
     "status": "completed"
    },
    "tags": []
   },
   "outputs": [],
   "source": [
    "'''path_common    = Path(file[0])\n",
    "path_raw_train = Path(path_common / \"train_x.nrrd\")\n",
    "path_seg_train = Path(path_common / \"train_y.nrrd\")\n",
    "path_common    = Path(file_val[0])\n",
    "path_raw_valid = Path(path_common / \"val_x.nrrd\")\n",
    "path_seg_valid = Path(path_common / \"val_y.nrrd\")\n",
    "data_x_train = np.transpose(nrrd.read(path_raw_train)[0][..., np.newaxis], (2, 0, 1, 3)).astype('float32')\n",
    "data_y_train = np.transpose(nrrd.read(path_seg_train)[0][..., np.newaxis], (2, 0, 1, 3)).astype('float32')\n",
    "data_x_valid = np.transpose(nrrd.read(path_raw_valid)[0][..., np.newaxis], (2, 0, 1, 3)).astype('float32')\n",
    "data_y_valid = np.transpose(nrrd.read(path_seg_valid)[0][..., np.newaxis], (2, 0, 1, 3)).astype('float32')\n",
    "data_y_train[data_y_train>=255/2] = 255\n",
    "data_y_train[data_y_train<255/2] = 0\n",
    "data_x_train = (data_x_train - data_x_train.min())/(data_x_train.max() - data_x_train.min())\n",
    "data_y_train = (data_y_train - data_y_train.min())/(data_y_train.max() - data_y_train.min())\n",
    "data_x_valid = (data_x_valid - data_x_valid.min())/(data_x_valid.max() - data_x_valid.min())\n",
    "data_y_valid = (data_y_valid - data_y_valid.min())/(data_y_valid.max() - data_y_valid.min())'''"
   ]
  },
  {
   "cell_type": "code",
   "execution_count": null,
   "metadata": {
    "execution": {
     "iopub.execute_input": "2021-02-23T12:18:26.120482Z",
     "iopub.status.busy": "2021-02-23T12:18:26.119683Z",
     "iopub.status.idle": "2021-02-23T12:18:26.265971Z",
     "shell.execute_reply": "2021-02-23T12:18:26.267278Z"
    },
    "papermill": {
     "duration": 0.175451,
     "end_time": "2021-02-23T12:18:26.267559",
     "exception": false,
     "start_time": "2021-02-23T12:18:26.092108",
     "status": "completed"
    },
    "tags": []
   },
   "outputs": [],
   "source": [
    "import cv2"
   ]
  },
  {
   "cell_type": "code",
   "execution_count": 50,
   "metadata": {
    "execution": {
     "iopub.execute_input": "2021-02-23T12:18:26.352078Z",
     "iopub.status.busy": "2021-02-23T12:18:26.351185Z",
     "iopub.status.idle": "2021-02-23T12:18:26.354948Z",
     "shell.execute_reply": "2021-02-23T12:18:26.355531Z"
    },
    "papermill": {
     "duration": 0.047606,
     "end_time": "2021-02-23T12:18:26.355738",
     "exception": false,
     "start_time": "2021-02-23T12:18:26.308132",
     "status": "completed"
    },
    "tags": []
   },
   "outputs": [],
   "source": [
    "n_epochs = 10\n",
    "batch_size = 32\n",
    "learning_rate = 0.01\n",
    "drop_rate = 0.00\n",
    "#\n",
    "patch_size = 64"
   ]
  },
  {
   "cell_type": "code",
   "execution_count": 51,
   "metadata": {
    "execution": {
     "iopub.execute_input": "2021-02-23T12:18:26.444804Z",
     "iopub.status.busy": "2021-02-23T12:18:26.443907Z",
     "iopub.status.idle": "2021-02-23T12:18:26.451159Z",
     "shell.execute_reply": "2021-02-23T12:18:26.451867Z"
    },
    "papermill": {
     "duration": 0.064811,
     "end_time": "2021-02-23T12:18:26.452087",
     "exception": false,
     "start_time": "2021-02-23T12:18:26.387276",
     "status": "completed"
    },
    "tags": []
   },
   "outputs": [],
   "source": [
    "from tensorflow.keras import backend as K\n",
    "\n",
    "def dice_coef(y_true, y_pred, smooth=1):\n",
    "    dim = len(y_true.shape)\n",
    "    intersection = K.sum(y_true * y_pred, axis=tuple(np.arange(1, dim)))\n",
    "    union_s      = K.sum(K.square(y_true) + K.square(y_pred), axis=tuple(np.arange(1, dim)))\n",
    "    dice         = (2. * intersection + smooth) / (union_s + smooth)\n",
    "    return dice\n",
    "\n",
    "def dice_coef_loss(y_true, y_pred):\n",
    "    return 1 - K.mean(dice_coef(y_true, y_pred),axis=-1)"
   ]
  },
  {
   "cell_type": "code",
   "execution_count": 121,
   "metadata": {},
   "outputs": [
    {
     "data": {
      "text/plain": [
       "<tf.Tensor: shape=(), dtype=float32, numpy=0.6402605>"
      ]
     },
     "execution_count": 121,
     "metadata": {},
     "output_type": "execute_result"
    }
   ],
   "source": [
    "dice_coef_loss(data_x_train[0], data_y_train[0])"
   ]
  },
  {
   "cell_type": "code",
   "execution_count": 52,
   "metadata": {
    "execution": {
     "iopub.execute_input": "2021-02-23T12:18:26.539054Z",
     "iopub.status.busy": "2021-02-23T12:18:26.538149Z",
     "iopub.status.idle": "2021-02-23T12:18:27.163572Z",
     "shell.execute_reply": "2021-02-23T12:18:27.164654Z"
    },
    "papermill": {
     "duration": 0.677376,
     "end_time": "2021-02-23T12:18:27.164894",
     "exception": false,
     "start_time": "2021-02-23T12:18:26.487518",
     "status": "completed"
    },
    "tags": []
   },
   "outputs": [],
   "source": [
    "model_sara = unet(input_size=(patch_size, patch_size, 1), drop_rate=drop_rate, half_Unet=True, learning_rate=learning_rate)\n",
    "model_sara.compile(optimizer=Adam(learning_rate=learning_rate), loss=dice_coef_loss, metrics=[dice_coef])"
   ]
  },
  {
   "cell_type": "code",
   "execution_count": 53,
   "metadata": {
    "execution": {
     "iopub.execute_input": "2021-02-23T12:18:27.241082Z",
     "iopub.status.busy": "2021-02-23T12:18:27.235803Z",
     "iopub.status.idle": "2021-02-23T12:20:21.960122Z",
     "shell.execute_reply": "2021-02-23T12:20:21.960892Z"
    },
    "papermill": {
     "duration": 114.76376,
     "end_time": "2021-02-23T12:20:21.961166",
     "exception": false,
     "start_time": "2021-02-23T12:18:27.197406",
     "status": "completed"
    },
    "tags": []
   },
   "outputs": [
    {
     "name": "stdout",
     "output_type": "stream",
     "text": [
      "Epoch 1/10\n",
      "245/245 [==============================] - 2513s 10s/step - loss: 0.2883 - dice_coef: 0.7117 - val_loss: 0.5160 - val_dice_coef: 0.4840\n",
      "Epoch 2/10\n",
      "245/245 [==============================] - 2348s 10s/step - loss: 0.2137 - dice_coef: 0.7863 - val_loss: 0.2137 - val_dice_coef: 0.7863\n",
      "Epoch 3/10\n",
      "245/245 [==============================] - 2067s 8s/step - loss: 0.1786 - dice_coef: 0.8214 - val_loss: 0.1675 - val_dice_coef: 0.8325\n",
      "Epoch 4/10\n",
      "245/245 [==============================] - 2074s 8s/step - loss: 0.1541 - dice_coef: 0.8459 - val_loss: 0.1694 - val_dice_coef: 0.8306\n",
      "Epoch 5/10\n",
      "245/245 [==============================] - 2090s 9s/step - loss: 0.1439 - dice_coef: 0.8561 - val_loss: 0.1800 - val_dice_coef: 0.8200\n",
      "Epoch 6/10\n",
      "245/245 [==============================] - 2085s 9s/step - loss: 0.1352 - dice_coef: 0.8648 - val_loss: 0.1258 - val_dice_coef: 0.8742\n",
      "Epoch 7/10\n",
      "245/245 [==============================] - 2078s 8s/step - loss: 0.1441 - dice_coef: 0.8559 - val_loss: 0.1386 - val_dice_coef: 0.8614\n",
      "Epoch 8/10\n",
      "245/245 [==============================] - 2091s 9s/step - loss: 0.1265 - dice_coef: 0.8735 - val_loss: 0.1202 - val_dice_coef: 0.8798\n",
      "Epoch 9/10\n",
      "245/245 [==============================] - 2079s 8s/step - loss: 0.1195 - dice_coef: 0.8805 - val_loss: 0.1303 - val_dice_coef: 0.8697\n",
      "Epoch 10/10\n",
      "245/245 [==============================] - 2075s 8s/step - loss: 0.1242 - dice_coef: 0.8758 - val_loss: 0.1143 - val_dice_coef: 0.8857\n"
     ]
    }
   ],
   "source": [
    "model_history = model_sara.fit(x=data_x_train, y=data_y_train, validation_data=(data_x_valid, data_y_valid), epochs=n_epochs, batch_size=batch_size)"
   ]
  },
  {
   "cell_type": "code",
   "execution_count": null,
   "metadata": {
    "execution": {
     "iopub.execute_input": "2021-02-23T12:20:23.130996Z",
     "iopub.status.busy": "2021-02-23T12:20:23.130081Z",
     "iopub.status.idle": "2021-02-23T12:20:23.269003Z",
     "shell.execute_reply": "2021-02-23T12:20:23.267429Z"
    },
    "papermill": {
     "duration": 0.729683,
     "end_time": "2021-02-23T12:20:23.269166",
     "exception": false,
     "start_time": "2021-02-23T12:20:22.539483",
     "status": "completed"
    },
    "tags": []
   },
   "outputs": [],
   "source": [
    "\n",
    "import tensorflow_addons as tfa"
   ]
  },
  {
   "cell_type": "code",
   "execution_count": 57,
   "metadata": {},
   "outputs": [
    {
     "data": {
      "text/plain": [
       "{'loss': [0.2882893979549408,\n",
       "  0.21373382210731506,\n",
       "  0.178599014878273,\n",
       "  0.15411002933979034,\n",
       "  0.1438644826412201,\n",
       "  0.13522009551525116,\n",
       "  0.14414465427398682,\n",
       "  0.1264781504869461,\n",
       "  0.11953211575746536,\n",
       "  0.12419699132442474],\n",
       " 'dice_coef': [0.711711049079895,\n",
       "  0.7862660884857178,\n",
       "  0.8214011788368225,\n",
       "  0.84589022397995,\n",
       "  0.8561357855796814,\n",
       "  0.8647796511650085,\n",
       "  0.8558552861213684,\n",
       "  0.8735215067863464,\n",
       "  0.8804678320884705,\n",
       "  0.8758031129837036],\n",
       " 'val_loss': [0.5160126090049744,\n",
       "  0.2136777937412262,\n",
       "  0.16751617193222046,\n",
       "  0.16941684484481812,\n",
       "  0.1800224483013153,\n",
       "  0.12575015425682068,\n",
       "  0.13856250047683716,\n",
       "  0.12015480548143387,\n",
       "  0.13034626841545105,\n",
       "  0.11427809298038483],\n",
       " 'val_dice_coef': [0.483987420797348,\n",
       "  0.7863221168518066,\n",
       "  0.8324838280677795,\n",
       "  0.8305830955505371,\n",
       "  0.8199775218963623,\n",
       "  0.8742498159408569,\n",
       "  0.8614373803138733,\n",
       "  0.8798452615737915,\n",
       "  0.8696536421775818,\n",
       "  0.8857218623161316]}"
      ]
     },
     "execution_count": 57,
     "metadata": {},
     "output_type": "execute_result"
    }
   ],
   "source": [
    "model_history.history"
   ]
  },
  {
   "cell_type": "code",
   "execution_count": 54,
   "metadata": {
    "execution": {
     "iopub.execute_input": "2021-02-23T12:20:24.463367Z",
     "iopub.status.busy": "2021-02-23T12:20:24.460248Z",
     "iopub.status.idle": "2021-02-23T12:20:24.822420Z",
     "shell.execute_reply": "2021-02-23T12:20:24.823089Z"
    },
    "papermill": {
     "duration": 0.95505,
     "end_time": "2021-02-23T12:20:24.823278",
     "exception": false,
     "start_time": "2021-02-23T12:20:23.868228",
     "status": "completed"
    },
    "tags": []
   },
   "outputs": [
    {
     "data": {
      "image/png": "[encoded data removed]",
      "text/plain": [
       "<Figure size 640x480 with 1 Axes>"
      ]
     },
     "metadata": {},
     "output_type": "display_data"
    }
   ],
   "source": [
    "loss     = model_history.history['loss']\n",
    "val_loss = model_history.history['val_loss']\n",
    "epochsr  = range(len(model_history.epoch))\n",
    "# Plot\n",
    "plt.figure()\n",
    "plt.plot(epochsr, loss, 'r', label='Training loss')\n",
    "plt.plot(epochsr, val_loss, 'bo', label='Validation loss')\n",
    "plt.title('Training and Validation Loss')\n",
    "plt.xlabel('Epoch')\n",
    "plt.ylabel('Loss Value')\n",
    "plt.ylim([0, 1])\n",
    "plt.legend()\n",
    "plt.savefig('loss.png')\n",
    "plt.show()"
   ]
  },
  {
   "cell_type": "code",
   "execution_count": 66,
   "metadata": {
    "execution": {
     "iopub.execute_input": "2021-02-23T12:20:26.017143Z",
     "iopub.status.busy": "2021-02-23T12:20:26.015350Z",
     "iopub.status.idle": "2021-02-23T12:20:35.373553Z",
     "shell.execute_reply": "2021-02-23T12:20:35.388195Z"
    },
    "papermill": {
     "duration": 9.957597,
     "end_time": "2021-02-23T12:20:35.388451",
     "exception": false,
     "start_time": "2021-02-23T12:20:25.430854",
     "status": "completed"
    },
    "tags": []
   },
   "outputs": [
    {
     "name": "stdout",
     "output_type": "stream",
     "text": [
      "INFO:tensorflow:Assets written to: model_sara\\assets\n"
     ]
    }
   ],
   "source": [
    "model_sara.save('model_sara')"
   ]
  },
  {
   "cell_type": "code",
   "execution_count": null,
   "metadata": {
    "execution": {
     "iopub.execute_input": "2021-02-23T12:20:36.541345Z",
     "iopub.status.busy": "2021-02-23T12:20:36.539297Z",
     "iopub.status.idle": "2021-02-23T12:20:36.542039Z",
     "shell.execute_reply": "2021-02-23T12:20:36.542521Z"
    },
    "papermill": {
     "duration": 0.576558,
     "end_time": "2021-02-23T12:20:36.542678",
     "exception": false,
     "start_time": "2021-02-23T12:20:35.966120",
     "status": "completed"
    },
    "tags": []
   },
   "outputs": [],
   "source": [
    "from tensorflow.keras.models import *\n",
    "from tensorflow.keras.layers import *\n",
    "from tensorflow.keras.optimizers import *"
   ]
  },
  {
   "cell_type": "code",
   "execution_count": null,
   "metadata": {
    "execution": {
     "iopub.execute_input": "2021-02-23T12:20:37.662627Z",
     "iopub.status.busy": "2021-02-23T12:20:37.661896Z",
     "iopub.status.idle": "2021-02-23T12:20:37.666600Z",
     "shell.execute_reply": "2021-02-23T12:20:37.666080Z"
    },
    "papermill": {
     "duration": 0.571562,
     "end_time": "2021-02-23T12:20:37.666770",
     "exception": false,
     "start_time": "2021-02-23T12:20:37.095208",
     "status": "completed"
    },
    "tags": []
   },
   "outputs": [],
   "source": [
    "import tensorflow.keras"
   ]
  },
  {
   "cell_type": "code",
   "execution_count": null,
   "metadata": {},
   "outputs": [],
   "source": [
    "plt.imshow(nrrd.read('C:/Users/hp/Desktop/pfe_sdbd/x/0.nrrd')[0][:,:,0])"
   ]
  },
  {
   "cell_type": "code",
   "execution_count": null,
   "metadata": {
    "execution": {
     "iopub.execute_input": "2021-02-23T12:20:38.780985Z",
     "iopub.status.busy": "2021-02-23T12:20:38.779112Z",
     "iopub.status.idle": "2021-02-23T12:20:38.781685Z",
     "shell.execute_reply": "2021-02-23T12:20:38.782198Z"
    },
    "papermill": {
     "duration": 0.565701,
     "end_time": "2021-02-23T12:20:38.782377",
     "exception": false,
     "start_time": "2021-02-23T12:20:38.216676",
     "status": "completed"
    },
    "tags": []
   },
   "outputs": [],
   "source": [
    "#model_nathan = keras.models.load_model('../input/codefghjklm/model_1_checkpoint', custom_objects={'dice_coef': lambda x: x, 'loss': lambda x: x})"
   ]
  },
  {
   "cell_type": "code",
   "execution_count": 55,
   "metadata": {
    "execution": {
     "iopub.execute_input": "2021-02-23T12:20:39.909814Z",
     "iopub.status.busy": "2021-02-23T12:20:39.907535Z",
     "iopub.status.idle": "2021-02-23T12:51:50.983403Z",
     "shell.execute_reply": "2021-02-23T12:51:50.982222Z"
    },
    "papermill": {
     "duration": 1871.648364,
     "end_time": "2021-02-23T12:51:50.983564",
     "exception": false,
     "start_time": "2021-02-23T12:20:39.335200",
     "status": "completed"
    },
    "tags": []
   },
   "outputs": [
    {
     "name": "stdout",
     "output_type": "stream",
     "text": [
      "Device mapping: no known devices.\n",
      "Processing Unet trained on humanized data\n"
     ]
    }
   ],
   "source": [
    "#import keras\n",
    "import tensorflow as tf\n",
    "import numpy as np\n",
    "import pickle\n",
    "import nrrd\n",
    "#\n",
    "#from src.data_process import image2patches, rebuild_from_patches\n",
    "#from src.segmentation_metrics import computeSegmentationMetrics\n",
    "#\n",
    "from tensorflow.compat.v1.keras.backend import set_session\n",
    "config = tf.compat.v1.ConfigProto()\n",
    "config.gpu_options.allow_growth = True  # dynamically grow the memory used on the GPU\n",
    "config.log_device_placement = True  # to log device placement (on which device the operation ran)\n",
    "sess = tf.compat.v1.Session(config=config)\n",
    "set_session(sess)\n",
    "#listfiles   = Path('../input/lgg-mri-segmentation/null')\n",
    "pathtestdat = 'C:/Users/hp/Desktop/pfe_sdbd/x/'\n",
    "pathtestdat_seg = 'C:/Users/hp/Desktop/pfe_sdbd/y/'\n",
    "listfiles   = os.listdir(pathtestdat)\n",
    "print('Processing Unet trained on humanized data')\n",
    "patch_size = 64\n",
    "metrics_unet_humanization = []\n",
    "#image = skimage.io.imread('../input/lgg-mri-segmentation/kaggle_3m/TCGA_CS_4941_19960909/TCGA_CS_4941_19960909_1.tif', plugin='tifffile')\n",
    "#stack = np.uint8(stack*255.0/stack.max())\n",
    "for file in listfiles:\n",
    "    if file == '0.nrrd':\n",
    "        break\n",
    "    print(file)\n",
    "    image, header = nrrd.read(pathtestdat + file)\n",
    "    image_pred = np.zeros(image.shape)\n",
    "    shifts     = [[0, 0], [patch_size/2, 0], [0, patch_size/2], [patch_size/2, patch_size/2]]\n",
    "    for (i, shift) in enumerate(shifts):\n",
    "        print('\\tPrediction {}/{}'.format(i+1, len(shifts)))\n",
    "        sizeloc    = tuple(np.array(image.shape).astype(int) + np.array(shift + [0,]).astype(int))\n",
    "        imageloc   = np.zeros(sizeloc)\n",
    "        imageloc[int(shift[0]):, int(shift[1]):, :] = image\n",
    "        patches    = image2patches(patch_size, filepath=None, image=imageloc, factor=1., n_channels=1, dim=2)\n",
    "        patches   = (patches - patches.min())/(patches.max() - patches.min()) \n",
    "        prediction = model_sara.predict(patches)\n",
    "        prediction = rebuild_from_patches(prediction, np.array(sizeloc)[0:2], scaling=1, dim=2)\n",
    "        prediction = np.squeeze(prediction.astype(np.float32))\n",
    "        if i == 0 and len(prediction.shape) == 4:\n",
    "            image_pred = np.stack((image_pred,)*prediction.shape[-1], -1)\n",
    "        image_pred += prediction[int(shift[0]):, int(shift[1]):, :] / len(shifts)\n",
    "\n",
    "    image_pred[image_pred >= 0.5] = 1\n",
    "    image_pred[image_pred  < 0.5] = 0#enregistré\n",
    "    image_seg  = nrrd.read(pathtestdat_seg + file)[0]\n",
    "    image_seg  = ((image_seg - image_seg.min())/( image_seg.max()-image_seg.min())).astype(np.float32)\n",
    "    metrics_unet_humanization.append(computeSegmentationMetrics(image_seg, image_pred))\n",
    "#\n",
    "#\n",
    "# save\n",
    "#\n",
    "\n",
    "output = {}\n",
    "output['metrics_unet_humanization'] = metrics_unet_humanization#enregistré\n",
    "#with open(fold_save + 'performance_measures_unet_humanization', 'wb') as file_pi:\n",
    "    #pickle.dump(output, file_pi)"
   ]
  },
  {
   "cell_type": "code",
   "execution_count": 56,
   "metadata": {},
   "outputs": [
    {
     "name": "stdout",
     "output_type": "stream",
     "text": [
      "0.nrrd\n",
      "\tPrediction 1/4\n",
      "\tPrediction 2/4\n",
      "\tPrediction 3/4\n",
      "\tPrediction 4/4\n"
     ]
    }
   ],
   "source": [
    "file = '0.nrrd'\n",
    "    \n",
    "print(file)\n",
    "image, header = nrrd.read(pathtestdat + file)\n",
    "image_pred = np.zeros(image.shape)\n",
    "shifts     = [[0, 0], [patch_size/2, 0], [0, patch_size/2], [patch_size/2, patch_size/2]]\n",
    "for (i, shift) in enumerate(shifts):\n",
    "    print('\\tPrediction {}/{}'.format(i+1, len(shifts)))\n",
    "    sizeloc    = tuple(np.array(image.shape).astype(int) + np.array(shift + [0,]).astype(int))\n",
    "    imageloc   = np.zeros(sizeloc)\n",
    "    imageloc[int(shift[0]):, int(shift[1]):, :] = image\n",
    "    patches    = image2patches(patch_size, filepath=None, image=imageloc, factor=1., n_channels=1, dim=2)\n",
    "    patches   = (patches - patches.min())/(patches.max() - patches.min()) \n",
    "    prediction = model_sara.predict(patches)\n",
    "    prediction = rebuild_from_patches(prediction, np.array(sizeloc)[0:2], scaling=1, dim=2)\n",
    "    prediction = np.squeeze(prediction.astype(np.float32))\n",
    "    if i == 0 and len(prediction.shape) == 4:\n",
    "        image_pred = np.stack((image_pred,)*prediction.shape[-1], -1)\n",
    "    image_pred += prediction[int(shift[0]):, int(shift[1]):, :] / len(shifts)\n",
    "\n",
    "image_pred[image_pred >= 0.5] = 1\n",
    "image_pred[image_pred  < 0.5] = 0#enregistré\n",
    "image_seg  = nrrd.read(pathtestdat_seg + file)[0]\n",
    "image_seg  = ((image_seg - image_seg.min())/( image_seg.max()-image_seg.min())).astype(np.float32)\n",
    "metrics_unet_humanization.append(computeSegmentationMetrics(image_seg, image_pred))\n",
    "#\n",
    "#\n",
    "# save\n",
    "#\n",
    "\n",
    "output = {}\n",
    "output['metrics_unet_humanization'] = metrics_unet_humanization#enregistré\n",
    "#with open(fold_save + 'performance_measures_unet_humanization', 'wb') as file_pi:\n",
    "#pickle.dump(output, file_pi)"
   ]
  },
  {
   "cell_type": "code",
   "execution_count": 96,
   "metadata": {},
   "outputs": [
    {
     "name": "stderr",
     "output_type": "stream",
     "text": [
      "C:\\ProgramData\\Anaconda3\\lib\\site-packages\\napari\\_qt\\qt_event_loop.py:256: FutureWarning: \n",
      "The 'gui_qt()' context manager is deprecated.\n",
      "If you are running napari from a script, please use 'napari.run()' as follows:\n",
      "\n",
      "    import napari\n",
      "\n",
      "    viewer = napari.Viewer()  # no prior setup needed\n",
      "    # other code using the viewer...\n",
      "    napari.run()\n",
      "\n",
      "In IPython or Jupyter, 'napari.run()' is not necessary. napari will automatically\n",
      "start an interactive event loop for you: \n",
      "\n",
      "    import napari\n",
      "    viewer = napari.Viewer()  # that's it!\n",
      "\n",
      "  warn(\n",
      "WARNING: DirectWrite: CreateFontFaceFromHDC() failed (Indique une erreur dans un fichier d’entrée, tel qu’un fichier de polices.) for QFontDef(Family=\"\", pointsize=12, pixelsize=16, styleHint=5, weight=50, stretch=100, hintingPreference=0) LOGFONT(\"MS Sans Serif\", lfWidth=0, lfHeight=-16) dpi=96\n"
     ]
    },
    {
     "name": "stdout",
     "output_type": "stream",
     "text": [
      "(300, 256, 256)\n",
      "\u001b[1;31m---------------------------------------------------------------------------\u001b[0m\n",
      "\u001b[1;31mAttributeError\u001b[0m                            Traceback (most recent call last)\n",
      "\u001b[1;32mC:\\ProgramData\\Anaconda3\\lib\\site-packages\\napari\\utils\\colormaps\\colormap_utils.py\u001b[0m in \u001b[0;36mvispy_or_mpl_colormap\u001b[1;34m(name='gray_trans')\u001b[0m\n",
      "\u001b[0;32m    392\u001b[0m         \u001b[1;32mtry\u001b[0m\u001b[1;33m:\u001b[0m\u001b[1;33m\u001b[0m\u001b[1;33m\u001b[0m\u001b[0m\n",
      "\u001b[1;32m--> 393\u001b[1;33m             \u001b[0mmpl_cmap\u001b[0m \u001b[1;33m=\u001b[0m \u001b[0mgetattr\u001b[0m\u001b[1;33m(\u001b[0m\u001b[0mcm\u001b[0m\u001b[1;33m,\u001b[0m \u001b[0mname\u001b[0m\u001b[1;33m)\u001b[0m\u001b[1;33m\u001b[0m\u001b[1;33m\u001b[0m\u001b[0m\n",
      "\u001b[0m        \u001b[0;36mmpl_cmap\u001b[0m \u001b[1;34m= \u001b[1;36mundefined\u001b[0m\u001b[0m\u001b[1;34m\n",
      "        \u001b[0m\u001b[1;36mglobal\u001b[0m \u001b[0;36mgetattr\u001b[0m \u001b[1;34m= \u001b[1;36mundefined\u001b[0m\u001b[0m\u001b[1;34m\n",
      "        \u001b[0m\u001b[1;36mglobal\u001b[0m \u001b[0;36mcm\u001b[0m \u001b[1;34m= <module 'napari.utils.colormaps.vendored.cm' from 'C:\\\\ProgramData\\\\Anaconda3\\\\lib\\\\site-packages\\\\napari\\\\utils\\\\colormaps\\\\vendored\\\\cm.py'>\u001b[0m\u001b[1;34m\n",
      "        \u001b[0m\u001b[0;36mname\u001b[0m \u001b[1;34m= 'gray_trans'\u001b[0m\n",
      "\u001b[0;32m    394\u001b[0m             \u001b[1;32mif\u001b[0m \u001b[0mname\u001b[0m \u001b[1;32min\u001b[0m \u001b[0m_MATPLOTLIB_COLORMAP_NAMES\u001b[0m\u001b[1;33m:\u001b[0m\u001b[1;33m\u001b[0m\u001b[1;33m\u001b[0m\u001b[0m\n",
      "\n",
      "\u001b[1;31mAttributeError\u001b[0m: module 'napari.utils.colormaps.vendored.cm' has no attribute 'gray_trans'\n",
      "\n",
      "During handling of the above exception, another exception occurred:\n",
      "\n",
      "\u001b[1;31mKeyError\u001b[0m                                  Traceback (most recent call last)\n",
      "\u001b[1;32mC:\\ProgramData\\Anaconda3\\lib\\site-packages\\napari\\_qt\\qt_event_loop.py\u001b[0m in \u001b[0;36mgui_qt\u001b[1;34m(startup_logo=False, gui_exceptions=False, force=False)\u001b[0m\n",
      "\u001b[0;32m    270\u001b[0m         \u001b[0msplash\u001b[0m\u001b[1;33m.\u001b[0m\u001b[0mclose\u001b[0m\u001b[1;33m(\u001b[0m\u001b[1;33m)\u001b[0m\u001b[1;33m\u001b[0m\u001b[1;33m\u001b[0m\u001b[0m\n",
      "\u001b[0;32m    271\u001b[0m     \u001b[1;32mtry\u001b[0m\u001b[1;33m:\u001b[0m\u001b[1;33m\u001b[0m\u001b[1;33m\u001b[0m\u001b[0m\n",
      "\u001b[1;32m--> 272\u001b[1;33m         \u001b[1;32myield\u001b[0m \u001b[0mapp\u001b[0m\u001b[1;33m\u001b[0m\u001b[1;33m\u001b[0m\u001b[0m\n",
      "\u001b[0m        \u001b[0;36mapp\u001b[0m \u001b[1;34m= <PyQt5.QtWidgets.QApplication object at 0x0000016B007B93A0>\u001b[0m\n",
      "\u001b[0;32m    273\u001b[0m     \u001b[1;32mexcept\u001b[0m \u001b[0mException\u001b[0m\u001b[1;33m:\u001b[0m\u001b[1;33m\u001b[0m\u001b[1;33m\u001b[0m\u001b[0m\n",
      "\u001b[0;32m    274\u001b[0m         \u001b[0mnotification_manager\u001b[0m\u001b[1;33m.\u001b[0m\u001b[0mreceive_error\u001b[0m\u001b[1;33m(\u001b[0m\u001b[1;33m*\u001b[0m\u001b[0msys\u001b[0m\u001b[1;33m.\u001b[0m\u001b[0mexc_info\u001b[0m\u001b[1;33m(\u001b[0m\u001b[1;33m)\u001b[0m\u001b[1;33m)\u001b[0m\u001b[1;33m\u001b[0m\u001b[1;33m\u001b[0m\u001b[0m\n",
      "\n",
      "\u001b[1;32m<ipython-input-96-efc86548d798>\u001b[0m in \u001b[0;36m<module>\u001b[1;34m\u001b[0m\n",
      "\u001b[0;32m     16\u001b[0m     \u001b[1;31m# Open viewer (Qt window) with axes = slice, row, column\u001b[0m\u001b[1;33m\u001b[0m\u001b[1;33m\u001b[0m\u001b[1;33m\u001b[0m\u001b[0m\n",
      "\u001b[0;32m     17\u001b[0m     \u001b[0mviewer\u001b[0m \u001b[1;33m=\u001b[0m \u001b[0mnapari\u001b[0m\u001b[1;33m.\u001b[0m\u001b[0mViewer\u001b[0m\u001b[1;33m(\u001b[0m\u001b[0mtitle\u001b[0m\u001b[1;33m=\u001b[0m\u001b[1;34m'volume test'\u001b[0m\u001b[1;33m,\u001b[0m \u001b[0mndisplay\u001b[0m\u001b[1;33m=\u001b[0m\u001b[1;36m3\u001b[0m\u001b[1;33m,\u001b[0m \u001b[0morder\u001b[0m\u001b[1;33m=\u001b[0m\u001b[1;33m(\u001b[0m\u001b[1;36m0\u001b[0m\u001b[1;33m,\u001b[0m \u001b[1;36m1\u001b[0m\u001b[1;33m,\u001b[0m \u001b[1;36m2\u001b[0m\u001b[1;33m)\u001b[0m\u001b[1;33m)\u001b[0m\u001b[1;33m\u001b[0m\u001b[1;33m\u001b[0m\u001b[0m\n",
      "\u001b[1;32m---> 18\u001b[1;33m     \u001b[0mviewer\u001b[0m\u001b[1;33m.\u001b[0m\u001b[0madd_image\u001b[0m\u001b[1;33m(\u001b[0m\u001b[0mdata\u001b[0m\u001b[1;33m=\u001b[0m\u001b[0mimgarray\u001b[0m\u001b[1;33m,\u001b[0m \u001b[0mname\u001b[0m\u001b[1;33m=\u001b[0m\u001b[1;34m'blobs'\u001b[0m\u001b[1;33m,\u001b[0m \u001b[0mscale\u001b[0m\u001b[1;33m=\u001b[0m\u001b[1;33m[\u001b[0m\u001b[1;36m256\u001b[0m\u001b[1;33m/\u001b[0m\u001b[1;36m300\u001b[0m\u001b[1;33m,\u001b[0m \u001b[1;36m1\u001b[0m\u001b[1;33m,\u001b[0m \u001b[1;36m1\u001b[0m\u001b[1;33m]\u001b[0m\u001b[1;33m,\u001b[0m \u001b[0mcolormap\u001b[0m\u001b[1;33m=\u001b[0m\u001b[1;34m'gray_trans'\u001b[0m\u001b[1;33m,\u001b[0m \u001b[0mrendering\u001b[0m\u001b[1;33m=\u001b[0m\u001b[1;34m'attenuated_mip'\u001b[0m\u001b[1;33m,\u001b[0m \u001b[0mattenuation\u001b[0m\u001b[1;33m=\u001b[0m\u001b[1;36m2.0\u001b[0m\u001b[1;33m,\u001b[0m \u001b[0mcontrast_limits\u001b[0m\u001b[1;33m=\u001b[0m\u001b[1;33m(\u001b[0m\u001b[1;36m0.25\u001b[0m\u001b[1;33m,\u001b[0m \u001b[1;36m1\u001b[0m\u001b[1;33m)\u001b[0m\u001b[1;33m)\u001b[0m\u001b[1;33m\u001b[0m\u001b[1;33m\u001b[0m\u001b[0m\n",
      "\u001b[0m        \u001b[1;36mglobal\u001b[0m \u001b[0;36mviewer.add_image\u001b[0m \u001b[1;34m= <bound method ViewerModel.add_image of Viewer(axes=Axes(visible=False, labels=True, colored=True, dashed=False, arrows=True), camera=Camera(center=(0.0, 0.0, 0.0), zoom=1.0, angles=(0.0, 0.0, 90.0), perspective=0.0, interactive=True), cursor=Cursor(position=(1.0, 1.0), scaled=True, size=1, style=<CursorStyle.STANDARD: 'standard'>), dims=Dims(ndim=2, ndisplay=3, last_used=0, range=((0, 2, 1), (0, 2, 1)), current_step=(0, 0), order=(0, 1), axis_labels=('0', '1')), grid=GridCanvas(stride=1, shape=(-1, -1), enabled=False), layers=[], scale_bar=ScaleBar(visible=False, colored=False, ticks=True, position=<Position.BOTTOM_RIGHT: 'bottom_right'>, font_size=10.0, unit=None), text_overlay=TextOverlay(visible=False, color=<class 'numpy.ndarray'> (4,) float64, font_size=10.0, position=<TextOverlayPosition.TOP_LEFT: 'top_left'>, text=''), help='', status='Ready', tooltip=Tooltip(visible=False, text=''), theme='light', title='volume test', mouse_move_callbacks=[], mouse_drag_callbacks=[], mouse_double_click_callbacks=[], mouse_wheel_callbacks=[<function dims_scroll at 0x0000016B00666A60>], _persisted_mouse_event={}, _mouse_drag_gen={}, _mouse_wheel_gen={}, keymap={'Control-Shift-C': <bound method QtViewer.toggle_console_visibility of <napari._qt.qt_viewer.QtViewer object at 0x0000016B7A26BB80>>})>\u001b[0m\u001b[1;34m\n",
      "        \u001b[0m\u001b[1;36mglobal\u001b[0m \u001b[0;36mdata\u001b[0m \u001b[1;34m= <module 'skimage.data' from 'C:\\\\ProgramData\\\\Anaconda3\\\\lib\\\\site-packages\\\\skimage\\\\data\\\\__init__.py'>\u001b[0m\u001b[1;34m\n",
      "        \u001b[0m\u001b[1;36mglobal\u001b[0m \u001b[0;36mimgarray\u001b[0m \u001b[1;34m= <class 'numpy.ndarray'> (300, 256, 256) float64\u001b[0m\u001b[1;34m\n",
      "        \u001b[0m\u001b[1;36mglobal\u001b[0m \u001b[0;36mname\u001b[0m \u001b[1;34m= \u001b[1;36mundefined\u001b[0m\u001b[0m\u001b[1;34m\n",
      "        \u001b[0m\u001b[1;36mglobal\u001b[0m \u001b[0;36mscale\u001b[0m \u001b[1;34m= \u001b[1;36mundefined\u001b[0m\u001b[0m\u001b[1;34m\n",
      "        \u001b[0m\u001b[1;36mglobal\u001b[0m \u001b[0;36mcolormap\u001b[0m \u001b[1;34m= \u001b[1;36mundefined\u001b[0m\u001b[0m\u001b[1;34m\n",
      "        \u001b[0m\u001b[1;36mglobal\u001b[0m \u001b[0;36mrendering\u001b[0m \u001b[1;34m= \u001b[1;36mundefined\u001b[0m\u001b[0m\u001b[1;34m\n",
      "        \u001b[0m\u001b[1;36mglobal\u001b[0m \u001b[0;36mattenuation\u001b[0m \u001b[1;34m= \u001b[1;36mundefined\u001b[0m\u001b[0m\u001b[1;34m\n",
      "        \u001b[0m\u001b[1;36mglobal\u001b[0m \u001b[0;36mcontrast_limits\u001b[0m \u001b[1;34m= \u001b[1;36mundefined\u001b[0m\u001b[0m\n",
      "\n",
      "\u001b[1;32mC:\\ProgramData\\Anaconda3\\lib\\site-packages\\napari\\components\\viewer_model.py\u001b[0m in \u001b[0;36madd_image\u001b[1;34m(self=Viewer(axes=Axes(visible=False, labels=True, col..._viewer.QtViewer object at 0x0000016B7A26BB80>>}), data=<class 'numpy.ndarray'> (300, 256, 256) float64, channel_axis=None, rgb=None, colormap='gray_trans', contrast_limits=(0.25, 1), gamma=1, interpolation='nearest', rendering='attenuated_mip', iso_threshold=0.5, attenuation=2.0, name='blobs', metadata=None, scale=[0.8533333333333334, 1, 1], translate=None, rotate=None, shear=None, affine=None, opacity=1, blending=None, visible=True, multiscale=None, experimental_slicing_plane=None, experimental_clipping_planes=None)\u001b[0m\n",
      "\u001b[0;32m    697\u001b[0m                 \u001b[0mcolormap\u001b[0m \u001b[1;33m=\u001b[0m \u001b[1;33m[\u001b[0m\u001b[0mensure_colormap\u001b[0m\u001b[1;33m(\u001b[0m\u001b[0mc\u001b[0m\u001b[1;33m)\u001b[0m \u001b[1;32mfor\u001b[0m \u001b[0mc\u001b[0m \u001b[1;32min\u001b[0m \u001b[0mcolormap\u001b[0m\u001b[1;33m]\u001b[0m\u001b[1;33m\u001b[0m\u001b[1;33m\u001b[0m\u001b[0m\n",
      "\u001b[0;32m    698\u001b[0m             \u001b[1;32melse\u001b[0m\u001b[1;33m:\u001b[0m\u001b[1;33m\u001b[0m\u001b[1;33m\u001b[0m\u001b[0m\n",
      "\u001b[1;32m--> 699\u001b[1;33m                 \u001b[0mcolormap\u001b[0m \u001b[1;33m=\u001b[0m \u001b[0mensure_colormap\u001b[0m\u001b[1;33m(\u001b[0m\u001b[0mcolormap\u001b[0m\u001b[1;33m)\u001b[0m\u001b[1;33m\u001b[0m\u001b[1;33m\u001b[0m\u001b[0m\n",
      "\u001b[0m        \u001b[0;36mcolormap\u001b[0m \u001b[1;34m= 'gray_trans'\u001b[0m\u001b[1;34m\n",
      "        \u001b[0m\u001b[1;36mglobal\u001b[0m \u001b[0;36mensure_colormap\u001b[0m \u001b[1;34m= <function ensure_colormap at 0x0000016AE43261F0>\u001b[0m\n",
      "\u001b[0;32m    700\u001b[0m \u001b[1;33m\u001b[0m\u001b[0m\n",
      "\u001b[0;32m    701\u001b[0m         \u001b[1;31m# doing this here for IDE/console autocompletion in add_image function.\u001b[0m\u001b[1;33m\u001b[0m\u001b[1;33m\u001b[0m\u001b[1;33m\u001b[0m\u001b[0m\n",
      "\n",
      "\u001b[1;32mC:\\ProgramData\\Anaconda3\\lib\\site-packages\\napari\\utils\\colormaps\\colormap_utils.py\u001b[0m in \u001b[0;36mensure_colormap\u001b[1;34m(colormap='gray_trans')\u001b[0m\n",
      "\u001b[0;32m    514\u001b[0m             \u001b[0mname\u001b[0m \u001b[1;33m=\u001b[0m \u001b[0mcolormap\u001b[0m\u001b[1;33m\u001b[0m\u001b[1;33m\u001b[0m\u001b[0m\n",
      "\u001b[0;32m    515\u001b[0m             \u001b[1;32mif\u001b[0m \u001b[0mname\u001b[0m \u001b[1;32mnot\u001b[0m \u001b[1;32min\u001b[0m \u001b[0mAVAILABLE_COLORMAPS\u001b[0m\u001b[1;33m:\u001b[0m\u001b[1;33m\u001b[0m\u001b[1;33m\u001b[0m\u001b[0m\n",
      "\u001b[1;32m--> 516\u001b[1;33m                 cmap = vispy_or_mpl_colormap(\n",
      "\u001b[0m        \u001b[0;36mcmap\u001b[0m \u001b[1;34m= \u001b[1;36mundefined\u001b[0m\u001b[0m\u001b[1;34m\n",
      "        \u001b[0m\u001b[1;36mglobal\u001b[0m \u001b[0;36mvispy_or_mpl_colormap\u001b[0m \u001b[1;34m= <function vispy_or_mpl_colormap at 0x0000016AE43260D0>\u001b[0m\u001b[1;34m\n",
      "        \u001b[0m\u001b[0;36mname\u001b[0m \u001b[1;34m= 'gray_trans'\u001b[0m\n",
      "\u001b[0;32m    517\u001b[0m                     \u001b[0mname\u001b[0m\u001b[1;33m\u001b[0m\u001b[1;33m\u001b[0m\u001b[0m\n",
      "\u001b[0;32m    518\u001b[0m                 )  # raises KeyError if not found\n",
      "\n",
      "\u001b[1;32mC:\\ProgramData\\Anaconda3\\lib\\site-packages\\napari\\utils\\colormaps\\colormap_utils.py\u001b[0m in \u001b[0;36mvispy_or_mpl_colormap\u001b[1;34m(name='gray_trans')\u001b[0m\n",
      "\u001b[0;32m    413\u001b[0m                     \u001b[0mset\u001b[0m\u001b[1;33m(\u001b[0m\u001b[0m_MATPLOTLIB_COLORMAP_NAMES\u001b[0m\u001b[1;33m)\u001b[0m\u001b[1;33m\u001b[0m\u001b[1;33m\u001b[0m\u001b[0m\n",
      "\u001b[0;32m    414\u001b[0m                 )\n",
      "\u001b[1;32m--> 415\u001b[1;33m                 raise KeyError(\n",
      "\u001b[0m        \u001b[1;36mglobal\u001b[0m \u001b[0;36mKeyError\u001b[0m \u001b[1;34m= \u001b[1;36mundefined\u001b[0m\u001b[0m\u001b[1;34m\n",
      "        \u001b[0m\u001b[1;36mglobal\u001b[0m \u001b[0;36mtrans._\u001b[0m \u001b[1;34m= <bound method TranslationBundle._ of <napari.utils.translations.TranslationBundle object at 0x0000016AE41C3E80>>\u001b[0m\u001b[1;34m\n",
      "        \u001b[0m\u001b[1;36mglobal\u001b[0m \u001b[0;36mdeferred\u001b[0m \u001b[1;34m= \u001b[1;36mundefined\u001b[0m\u001b[0m\u001b[1;34m\n",
      "        \u001b[0m\u001b[0;36mname\u001b[0m \u001b[1;34m= 'gray_trans'\u001b[0m\u001b[1;34m\n",
      "        \u001b[0m\u001b[0;36mcolormaps.join\u001b[0m \u001b[1;34m= \u001b[1;36mundefined\u001b[0m\u001b[0m\u001b[1;34m\n",
      "        \u001b[0m\u001b[1;36mglobal\u001b[0m \u001b[0;36msorted\u001b[0m \u001b[1;34m= \u001b[1;36mundefined\u001b[0m\u001b[0m\u001b[1;34m\n",
      "        \u001b[0m\u001b[1;36mglobal\u001b[0m \u001b[0;36mcm\u001b[0m \u001b[1;34m= <module 'napari.utils.colormaps.vendored.cm' from 'C:\\\\ProgramData\\\\Anaconda3\\\\lib\\\\site-packages\\\\napari\\\\utils\\\\colormaps\\\\vendored\\\\cm.py'>\u001b[0m\u001b[1;34m\n",
      "        \u001b[0m\u001b[0;36mcolormaps\u001b[0m \u001b[1;34m= {'PiYG', 'coolwarm', 'spring', 'summer', 'winter', 'viridis', 'ice', 'PuGr', 'single_hue', 'light_blues', 'husl', 'diverging', 'turbo', 'hsv', 'RdBu', 'gray_r', 'GrBu_d', 'twilight', 'GrBu', 'hsl', 'greens', 'hot', 'autumn', 'fire', 'RdYeBuCy', 'gist_earth', 'blues', 'reds', 'grays', 'gray', 'magma', 'twilight_shifted', 'plasma', 'cool', 'orange', 'cubehelix', 'inferno'}\u001b[0m\n",
      "\u001b[0;32m    416\u001b[0m                     trans._(\n",
      "\u001b[0;32m    417\u001b[0m                         \u001b[1;34m'Colormap \"{name}\" not found in either vispy or matplotlib. Recognized colormaps are: {colormaps}'\u001b[0m\u001b[1;33m,\u001b[0m\u001b[1;33m\u001b[0m\u001b[1;33m\u001b[0m\u001b[0m\n",
      "\n",
      "\u001b[1;31mKeyError\u001b[0m: 'Colormap \"gray_trans\" not found in either vispy or matplotlib. Recognized colormaps are: \"GrBu\", \"GrBu_d\", \"PiYG\", \"PuGr\", \"RdBu\", \"RdYeBuCy\", \"autumn\", \"blues\", \"cool\", \"coolwarm\", \"cubehelix\", \"diverging\", \"fire\", \"gist_earth\", \"gray\", \"gray_r\", \"grays\", \"greens\", \"hot\", \"hsl\", \"hsv\", \"husl\", \"ice\", \"inferno\", \"light_blues\", \"magma\", \"orange\", \"plasma\", \"reds\", \"single_hue\", \"spring\", \"summer\", \"turbo\", \"twilight\", \"twilight_shifted\", \"viridis\", \"winter\"'\n"
     ]
    }
   ],
   "source": [
    "import numpy as np\n",
    "import napari\n",
    "from skimage import data, filters  # Just to generate some test data (3D blobs).\n",
    "\n",
    "with napari.gui_qt():\n",
    "\n",
    "    # Generate some test data (smooth 3D blob shapes)\n",
    "    imgarray = filters.gaussian(np.squeeze(np.stack([data.binary_blobs(length=300, n_dim=3, blob_size_fraction=0.1, volume_fraction=0.05)[:, 0:256, 0:256]])).astype(float), sigma=(2.5, 2.5, 2.5))\n",
    "    print(imgarray.shape)\n",
    "\n",
    "    '''\n",
    "    # If imgarray values are bytes (0..255), convert to floats for display.\n",
    "    imgarray = imgarray.astype(float) / 255\n",
    "    '''\n",
    "\n",
    "    # Open viewer (Qt window) with axes = slice, row, column\n",
    "    viewer = napari.Viewer(title='volume test', ndisplay=3, order=(0, 1, 2))\n",
    "    viewer.add_image(data=imgarray, name='blobs', scale=[256/300, 1, 1], colormap='gray_trans', rendering='attenuated_mip', attenuation=2.0, contrast_limits=(0.25, 1))\n"
   ]
  },
  {
   "cell_type": "code",
   "execution_count": 104,
   "metadata": {},
   "outputs": [
    {
     "data": {
      "image/png": "[encoded data removed]",
      "text/plain": [
       "<IPython.core.display.Image object>"
      ]
     },
     "execution_count": 104,
     "metadata": {},
     "output_type": "execute_result"
    }
   ],
   "source": [
    "\n",
    "tf.keras.utils.plot_model(model_sara, show_shapes=True, dpi=64, to_file='model_sara.png')"
   ]
  },
  {
   "cell_type": "code",
   "execution_count": 59,
   "metadata": {
    "execution": {
     "iopub.execute_input": "2021-02-23T12:51:52.167343Z",
     "iopub.status.busy": "2021-02-23T12:51:52.165492Z",
     "iopub.status.idle": "2021-02-23T12:51:52.178712Z",
     "shell.execute_reply": "2021-02-23T12:51:52.179271Z"
    },
    "papermill": {
     "duration": 0.609556,
     "end_time": "2021-02-23T12:51:52.179438",
     "exception": false,
     "start_time": "2021-02-23T12:51:51.569882",
     "status": "completed"
    },
    "tags": []
   },
   "outputs": [],
   "source": [
    "import json\n",
    "json = json.dumps(output)\n",
    "f = open(\"dict_res.json\",\"w\")\n",
    "f.write(json)\n",
    "f.close()"
   ]
  },
  {
   "cell_type": "code",
   "execution_count": 60,
   "metadata": {
    "execution": {
     "iopub.execute_input": "2021-02-23T12:51:54.079586Z",
     "iopub.status.busy": "2021-02-23T12:51:54.078590Z",
     "iopub.status.idle": "2021-02-23T12:51:54.080728Z",
     "shell.execute_reply": "2021-02-23T12:51:54.081239Z"
    },
    "papermill": {
     "duration": 0.706401,
     "end_time": "2021-02-23T12:51:54.081399",
     "exception": false,
     "start_time": "2021-02-23T12:51:53.374998",
     "status": "completed"
    },
    "tags": []
   },
   "outputs": [],
   "source": [
    "x = output['metrics_unet_humanization']"
   ]
  },
  {
   "cell_type": "code",
   "execution_count": 71,
   "metadata": {
    "scrolled": true
   },
   "outputs": [],
   "source": [
    "import numpy as np\n",
    "import nrrd\n",
    "\n",
    "filename = 'image_pred.nrrd'\n",
    "nrrd.write(filename, image_pred)\n"
   ]
  },
  {
   "cell_type": "code",
   "execution_count": 120,
   "metadata": {},
   "outputs": [
    {
     "data": {
      "text/plain": [
       "{'metrics_unet_humanization': [{'jaccard_coefficient': 0.6343091394023972,\n",
       "   'dice_coefficient': 0.7762413170305579,\n",
       "   'similarity': 0.4090131540140388,\n",
       "   'False_Negative': 0.024201464658234643,\n",
       "   'False_Positive': 0.35555244624784293,\n",
       "   'hausdorff_distance': 112.96459622377269,\n",
       "   'hausdorff_average_distance': 1.0247510248626277,\n",
       "   'hausdorff_balanced_average_distance': 0.9809751177650297,\n",
       "   'hausdorff_max_distance_at_95': 19.94993782043457}]}"
      ]
     },
     "execution_count": 120,
     "metadata": {},
     "output_type": "execute_result"
    }
   ],
   "source": [
    "output"
   ]
  },
  {
   "cell_type": "code",
   "execution_count": 118,
   "metadata": {
    "execution": {
     "iopub.execute_input": "2021-02-23T12:51:56.758011Z",
     "iopub.status.busy": "2021-02-23T12:51:56.757003Z",
     "iopub.status.idle": "2021-02-23T12:51:56.948448Z",
     "shell.execute_reply": "2021-02-23T12:51:56.949014Z"
    },
    "papermill": {
     "duration": 0.84353,
     "end_time": "2021-02-23T12:51:56.949204",
     "exception": false,
     "start_time": "2021-02-23T12:51:56.105674",
     "status": "completed"
    },
    "tags": []
   },
   "outputs": [
    {
     "ename": "IndexError",
     "evalue": "only integers, slices (`:`), ellipsis (`...`), numpy.newaxis (`None`) and integer or boolean arrays are valid indices",
     "output_type": "error",
     "traceback": [
      "\u001b[1;31m---------------------------------------------------------------------------\u001b[0m",
      "\u001b[1;31mIndexError\u001b[0m                                Traceback (most recent call last)",
      "\u001b[1;32m<ipython-input-118-e3af62b4b996>\u001b[0m in \u001b[0;36m<module>\u001b[1;34m\u001b[0m\n\u001b[0;32m      1\u001b[0m \u001b[0mstr_\u001b[0m \u001b[1;33m=\u001b[0m \u001b[1;34m'hausdorff_average_distance'\u001b[0m\u001b[1;33m\u001b[0m\u001b[1;33m\u001b[0m\u001b[0m\n\u001b[0;32m      2\u001b[0m \u001b[1;32mfor\u001b[0m \u001b[0mi\u001b[0m \u001b[1;32min\u001b[0m \u001b[0mrange\u001b[0m\u001b[1;33m(\u001b[0m\u001b[1;36m1\u001b[0m\u001b[1;33m)\u001b[0m\u001b[1;33m:\u001b[0m\u001b[1;33m\u001b[0m\u001b[1;33m\u001b[0m\u001b[0m\n\u001b[1;32m----> 3\u001b[1;33m     \u001b[0mtable\u001b[0m\u001b[1;33m[\u001b[0m\u001b[0mi\u001b[0m\u001b[1;33m]\u001b[0m \u001b[1;33m=\u001b[0m \u001b[0mx\u001b[0m\u001b[1;33m[\u001b[0m\u001b[0mi\u001b[0m\u001b[1;33m]\u001b[0m\u001b[1;33m[\u001b[0m\u001b[0mstr_\u001b[0m\u001b[1;33m]\u001b[0m\u001b[1;33m\u001b[0m\u001b[1;33m\u001b[0m\u001b[0m\n\u001b[0m\u001b[0;32m      4\u001b[0m \u001b[0mdata_1\u001b[0m \u001b[1;33m=\u001b[0m \u001b[0mpd\u001b[0m\u001b[1;33m.\u001b[0m\u001b[0mDataFrame\u001b[0m\u001b[1;33m(\u001b[0m\u001b[0mcolumns\u001b[0m\u001b[1;33m=\u001b[0m\u001b[1;33m[\u001b[0m\u001b[1;34m'valeur'\u001b[0m\u001b[1;33m,\u001b[0m\u001b[1;34m'metric'\u001b[0m\u001b[1;33m]\u001b[0m\u001b[1;33m)\u001b[0m\u001b[1;33m\u001b[0m\u001b[1;33m\u001b[0m\u001b[0m\n\u001b[0;32m      5\u001b[0m \u001b[0mdata_1\u001b[0m\u001b[1;33m[\u001b[0m\u001b[1;34m'valeur'\u001b[0m\u001b[1;33m]\u001b[0m \u001b[1;33m=\u001b[0m \u001b[0mtable\u001b[0m\u001b[1;33m\u001b[0m\u001b[1;33m\u001b[0m\u001b[0m\n",
      "\u001b[1;31mIndexError\u001b[0m: only integers, slices (`:`), ellipsis (`...`), numpy.newaxis (`None`) and integer or boolean arrays are valid indices"
     ]
    }
   ],
   "source": [
    "str_ = 'hausdorff_average_distance'\n",
    "for i in range(1):\n",
    "    table[i] = x[i][str_]\n",
    "data_1 = pd.DataFrame(columns=['valeur','metric'])\n",
    "data_1['valeur'] = table\n",
    "data_1['metric'] = str_\n",
    "ax = sns.boxplot(x='metric',y='valeur',data=data_1)\n",
    "plt.savefig(str_+'.png')\n",
    "plt.show()"
   ]
  },
  {
   "cell_type": "code",
   "execution_count": null,
   "metadata": {
    "execution": {
     "iopub.execute_input": "2021-02-23T12:51:58.177980Z",
     "iopub.status.busy": "2021-02-23T12:51:58.175188Z",
     "iopub.status.idle": "2021-02-23T12:51:58.365301Z",
     "shell.execute_reply": "2021-02-23T12:51:58.364684Z"
    },
    "papermill": {
     "duration": 0.814841,
     "end_time": "2021-02-23T12:51:58.365467",
     "exception": false,
     "start_time": "2021-02-23T12:51:57.550626",
     "status": "completed"
    },
    "tags": []
   },
   "outputs": [],
   "source": [
    "str_ = 'hausdorff_max_distance_at_95'\n",
    "for i in range(15):\n",
    "    table[i] = x[i][str_]\n",
    "data_1 = pd.DataFrame(columns=['valeur','metric'])\n",
    "data_1['valeur'] = table\n",
    "data_1['metric'] = str_\n",
    "ax = sns.boxplot(x='metric',y='valeur',data=data_1)\n",
    "plt.savefig(str_+'.png')\n",
    "plt.show()"
   ]
  },
  {
   "cell_type": "code",
   "execution_count": null,
   "metadata": {
    "papermill": {
     "duration": 0.626411,
     "end_time": "2021-02-23T12:51:59.667646",
     "exception": false,
     "start_time": "2021-02-23T12:51:59.041235",
     "status": "completed"
    },
    "tags": []
   },
   "outputs": [],
   "source": []
  }
 ],
 "metadata": {
  "kernelspec": {
   "display_name": "Python 3",
   "language": "python",
   "name": "python3"
  },
  "language_info": {
   "codemirror_mode": {
    "name": "ipython",
    "version": 3
   },
   "file_extension": ".py",
   "mimetype": "text/x-python",
   "name": "python",
   "nbconvert_exporter": "python",
   "pygments_lexer": "ipython3",
   "version": "3.8.8"
  },
  "papermill": {
   "default_parameters": {},
   "duration": 2043.708191,
   "end_time": "2021-02-23T12:52:02.497789",
   "environment_variables": {},
   "exception": null,
   "input_path": "__notebook__.ipynb",
   "output_path": "__notebook__.ipynb",
   "parameters": {},
   "start_time": "2021-02-23T12:17:58.789598",
   "version": "2.2.2"
  }
 },
 "nbformat": 4,
 "nbformat_minor": 4
}
